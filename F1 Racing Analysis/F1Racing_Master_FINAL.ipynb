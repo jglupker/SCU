{
 "cells": [
  {
   "cell_type": "markdown",
   "metadata": {},
   "source": [
    "# ***F1 Racing Data Analysis***\n",
    "**Jeffrey Glupker, Penn Murfee, Benjamin Richman**<br>\n",
    "**March 20, 2018**"
   ]
  },
  {
   "cell_type": "code",
   "execution_count": 1,
   "metadata": {
    "collapsed": true
   },
   "outputs": [],
   "source": [
    "#Print all outputs in a cell\n",
    "from IPython.core.interactiveshell import InteractiveShell\n",
    "InteractiveShell.ast_node_interactivity = \"all\""
   ]
  },
  {
   "cell_type": "code",
   "execution_count": 2,
   "metadata": {
    "collapsed": true
   },
   "outputs": [],
   "source": [
    "import numpy as np\n",
    "import pandas as pd\n",
    "import seaborn as sns\n",
    "import sklearn as sk\n",
    "from sklearn.model_selection import train_test_split\n",
    "from sklearn.linear_model import LinearRegression\n",
    "import sklearn.tree as tree\n",
    "from sklearn.model_selection import train_test_split\n",
    "import pydotplus as pyd\n",
    "import matplotlib.pyplot as plt\n",
    "from IPython.display import Image\n",
    "from sklearn.linear_model import LogisticRegression\n",
    "\n",
    "pd.options.display.max_columns=999\n",
    "%matplotlib inline"
   ]
  },
  {
   "cell_type": "markdown",
   "metadata": {},
   "source": [
    "## Import  Data"
   ]
  },
  {
   "cell_type": "code",
   "execution_count": 3,
   "metadata": {
    "collapsed": true
   },
   "outputs": [],
   "source": [
    "df = pd.read_csv('results.csv')\n",
    "status = pd.read_csv('status.csv')\n",
    "races = pd.read_csv('races.csv')\n",
    "circuits = pd.read_csv('circuits.csv')\n",
    "constructors = pd.read_csv('constructors.csv')\n",
    "drivers = pd.read_csv('drivers.csv')\n",
    "qualifying = pd.read_csv('qualifying.csv')"
   ]
  },
  {
   "cell_type": "markdown",
   "metadata": {},
   "source": [
    "## Merge Data - Base Dataframe"
   ]
  },
  {
   "cell_type": "code",
   "execution_count": 4,
   "metadata": {
    "collapsed": true
   },
   "outputs": [],
   "source": [
    "df = df.merge(status, left_on='statusId',right_on='statusId',how='left')\n",
    "df = df.merge(races, left_on='raceId',right_on='raceId',how='left')\n",
    "df = df.merge(circuits, left_on='circuitId',right_on='circuitId',how='left')\n",
    "df = df.merge(constructors, left_on='constructorId',right_on='constructorId',how='left')\n",
    "df = df.merge(drivers, left_on='driverId',right_on='driverId',how='left')\n",
    "df = df.merge(qualifying, left_on=['raceId','driverId','constructorId','number_x'],\n",
    "              right_on=['raceId','driverId','constructorId','number'],how='left')"
   ]
  },
  {
   "cell_type": "markdown",
   "metadata": {},
   "source": [
    "## Edit Dataframe (please see column metadata at the end of this section)"
   ]
  },
  {
   "cell_type": "code",
   "execution_count": 5,
   "metadata": {
    "collapsed": true
   },
   "outputs": [],
   "source": [
    "df.drop(['resultId','statusId','time_y','url_x','name_y','lat','lng','url_y','position_x','fastestLapTime','fastestLapSpeed',\n",
    "        'circuitRef','alt','url_x','Unnamed: 5','code','forename',\n",
    "        'surname','number_x','location','name_x','number_y','time_x','milliseconds','rank','positionText',\n",
    "        'fastestLap','circuitId','q1','q2','q3','qualifyId','number'],axis=1,inplace=True)"
   ]
  },
  {
   "cell_type": "code",
   "execution_count": 6,
   "metadata": {
    "collapsed": true
   },
   "outputs": [],
   "source": [
    "df.rename(columns = {'points':'racepoints','nationality_x':'constructorNationality','laps':'lapsfinished',\n",
    "                    'nationality_y':'driverNationality','position_y':'qualifyingposition','name':'constructorName'},\n",
    "          inplace = True)"
   ]
  },
  {
   "cell_type": "code",
   "execution_count": 7,
   "metadata": {
    "collapsed": true
   },
   "outputs": [],
   "source": [
    "df.country.replace(to_replace=['Australia', 'Malaysia'], value=['Australian','Malaysian'],inplace=True)\n",
    "\n",
    "df.country.replace(to_replace=['Spain','Turkey','Monaco','Canada','France','UK','Germany','Hungary','Belgium',\n",
    "                               'Italy','Japan','Brazil','USA','Austria','Argentina','Portugal','South Africa','Mexico',\n",
    "                               'Netherlands','Sweden','Switzerland','India','Russia'], \n",
    "                   value=['Spanish','Turkish','Monegasque','Canadian','French','British','German','Hungarian',\n",
    "                          'Belgian','Italian','Japanese','Brazilian','American','Austrian','Argentine','Portuguese',\n",
    "                          'South African','Mexican','Dutch','Swedish','Swiss','Indian','Russian'],inplace=True)\n",
    "\n"
   ]
  },
  {
   "cell_type": "code",
   "execution_count": 8,
   "metadata": {
    "collapsed": true
   },
   "outputs": [],
   "source": [
    "df['drivercountrymatch'] = (df.country == df.driverNationality)*1.0\n",
    "\n",
    "df['constcountrymatch'] = (df.country == df.constructorNationality)*1.0"
   ]
  },
  {
   "cell_type": "code",
   "execution_count": 9,
   "metadata": {
    "collapsed": true
   },
   "outputs": [],
   "source": [
    "df.country = df.country.str.lower()\n",
    "\n",
    "df['region'] = df.country.replace({'australian':'australia_nz'})\n",
    "\n",
    "df['region'] = df.region.replace(to_replace=['spanish','french','british','german','hungarian','belgian',\n",
    "                                              'italian','austrian','portugeuese','dutch','swiss','swedish','monegasque'],\n",
    "                                              value='europe')\n",
    "\n",
    "df['region'] = df.region.replace(to_replace=['malaysian','singapore','japanese','china','korea','indian','russian'],\n",
    "                                 value='asia')\n",
    "\n",
    "df['region'] = df.region.replace(to_replace=['bahrain','turkish','azerbaijan'],value='middle_east')\n",
    "\n",
    "df['region'] = df.region.replace(to_replace=['canadian','american','argentine','brazilian','mexican'],value='americas')\n",
    "\n",
    "df['region'] = df.region.replace(to_replace=['south african','uae','morocco'],value='africa')\n",
    "\n",
    "df.drop('country', axis = 1, inplace=True)"
   ]
  },
  {
   "cell_type": "code",
   "execution_count": 10,
   "metadata": {
    "collapsed": true
   },
   "outputs": [],
   "source": [
    "df.constructorNationality = df.constructorNationality.str.lower()\n",
    "\n",
    "df['constructorRegion'] = df.constructorNationality.replace(to_replace=['australian','new zealand'],value='australia_nz')\n",
    "\n",
    "df['constructorRegion'] = df.constructorRegion.replace(to_replace=['irish','french','british','german','hungarian','belgian',\n",
    "                                              'italian','austrian','dutch','swiss','belgium','east german'],value='europe')\n",
    "\n",
    "df['constructorRegion'] = df.constructorRegion.replace(to_replace=['canadian','american','brazilian','mexican'],value='americas')\n",
    "\n",
    "df['constructorRegion'] = df.constructorRegion.replace(to_replace=['malaysian','japanese','indian','russian'],value='asia')\n",
    "\n",
    "df.drop('constructorNationality', axis = 1, inplace=True)"
   ]
  },
  {
   "cell_type": "code",
   "execution_count": 11,
   "metadata": {
    "collapsed": true
   },
   "outputs": [],
   "source": [
    "df.driverNationality = df.driverNationality.str.lower()\n",
    "\n",
    "df['driverRegion'] = df.driverNationality.replace(to_replace=['australian','new zealander'],value='australia_nz')\n",
    "\n",
    "df['driverRegion'] = df.driverRegion.replace(to_replace=['german','spanish','finnish','french','polish','british',\n",
    "                                                        'italian','austrian','dutch','portuguese','hungarian',\n",
    "                                                        'irish','danish','czech','belgian','swiss',\n",
    "                                                        'monegasque','swedish','liechtensteiner','east german'],value='europe')\n",
    "\n",
    "df['driverRegion'] = df.driverRegion.replace(to_replace=['japanese','indian','malaysian','thai','indonesian'],value='asia')\n",
    "\n",
    "df['driverRegion'] = df.driverRegion.replace(to_replace=['brazilian','american','colombian','canadian','argentine',\n",
    "                                                        'venezuelan','chilean','mexican','american-italian','argentine-italian',\n",
    "                                                         'uruguayan'],value='americas')\n",
    "\n",
    "df['driverRegion'] = df.driverRegion.replace(to_replace=['south african','rhodesian'],value='africa')\n",
    "\n",
    "df.drop('driverNationality', axis = 1, inplace=True)"
   ]
  },
  {
   "cell_type": "code",
   "execution_count": 12,
   "metadata": {
    "collapsed": true
   },
   "outputs": [],
   "source": [
    "df['birthyear'] = df.dob.str[6:]\n",
    "\n",
    "df.drop('dob', axis=1, inplace=True)\n",
    "\n",
    "df.year = pd.to_numeric(df.year, errors = 'coerce')\n",
    "\n",
    "df.birthyear = pd.to_numeric(df.birthyear, errors = 'coerce')\n",
    "\n",
    "df['driverage'] = (df.year - df.birthyear)*1.0\n",
    "\n",
    "df.drop('date', axis=1, inplace=True)"
   ]
  },
  {
   "cell_type": "code",
   "execution_count": 13,
   "metadata": {
    "collapsed": true
   },
   "outputs": [],
   "source": [
    "dflaps = df.iloc[:,:7]\n",
    "\n",
    "finishlaps = dflaps.groupby('raceId', as_index = False).agg({'lapsfinished':'max'}).rename(columns = {'lapsfinished':'laps'})\n",
    "\n",
    "df = df.merge(finishlaps, left_on = 'raceId', right_on = 'raceId')\n",
    "\n",
    "df['lapsfinishedpct'] = (df.lapsfinished/df.laps)*1.0"
   ]
  },
  {
   "cell_type": "code",
   "execution_count": 14,
   "metadata": {
    "collapsed": true
   },
   "outputs": [],
   "source": [
    "df['wins'] = (df.positionOrder == 1)*1.0"
   ]
  },
  {
   "cell_type": "code",
   "execution_count": 15,
   "metadata": {
    "collapsed": true
   },
   "outputs": [],
   "source": [
    "df['top10'] = (df.racepoints > 0)*1.0"
   ]
  },
  {
   "cell_type": "markdown",
   "metadata": {},
   "source": [
    "**Lap and pitstop data**"
   ]
  },
  {
   "cell_type": "code",
   "execution_count": 16,
   "metadata": {
    "collapsed": true
   },
   "outputs": [],
   "source": [
    "laptimes = pd.read_csv('laptimes.csv')\n",
    "pitstops = pd.read_csv('pitStops.csv')"
   ]
  },
  {
   "cell_type": "markdown",
   "metadata": {},
   "source": [
    "Merge data"
   ]
  },
  {
   "cell_type": "code",
   "execution_count": 17,
   "metadata": {
    "collapsed": true
   },
   "outputs": [],
   "source": [
    "laps = laptimes.merge(pitstops, how='left', left_on=['raceId', 'driverId', 'lap'],\n",
    "                        right_on=['raceId', 'driverId', 'lap'])"
   ]
  },
  {
   "cell_type": "markdown",
   "metadata": {},
   "source": [
    "Change column names"
   ]
  },
  {
   "cell_type": "code",
   "execution_count": 18,
   "metadata": {
    "collapsed": true
   },
   "outputs": [],
   "source": [
    "colnames = [u'raceId', u'driverId', u'lap', u'currentposition', u'laptime',\n",
    "       u'lapmilliseconds', u'stop', u'stoptime', u'stopduration', u'stopmilliseconds']\n",
    "laps.columns = colnames"
   ]
  },
  {
   "cell_type": "code",
   "execution_count": 19,
   "metadata": {
    "collapsed": true
   },
   "outputs": [],
   "source": [
    "laps.drop(['stoptime', 'stopduration', 'laptime'], axis=1, inplace=True)"
   ]
  },
  {
   "cell_type": "code",
   "execution_count": 20,
   "metadata": {
    "collapsed": true
   },
   "outputs": [],
   "source": [
    "laps['pitstop'] = (laps.stop > 0)*1.0\n",
    "laps.drop('stop', axis=1, inplace=True)"
   ]
  },
  {
   "cell_type": "code",
   "execution_count": 21,
   "metadata": {
    "collapsed": true
   },
   "outputs": [],
   "source": [
    "laps['lapduration'] = laps.lapmilliseconds/1000.0\n",
    "laps['pitstopduration'] = laps.stopmilliseconds/1000.0"
   ]
  },
  {
   "cell_type": "code",
   "execution_count": 22,
   "metadata": {
    "collapsed": true
   },
   "outputs": [],
   "source": [
    "laps.drop(['lapmilliseconds','stopmilliseconds'], axis=1, inplace=True)"
   ]
  },
  {
   "cell_type": "code",
   "execution_count": 23,
   "metadata": {
    "collapsed": true
   },
   "outputs": [],
   "source": [
    "pitlapdur = laps.groupby(['raceId','driverId'], sort=False, as_index=False).agg({'lapduration':'mean','pitstop':'sum'})"
   ]
  },
  {
   "cell_type": "markdown",
   "metadata": {},
   "source": [
    "We only want the pitstop rows, since when they don't stop their duration is 0 and that skews the average"
   ]
  },
  {
   "cell_type": "code",
   "execution_count": 24,
   "metadata": {
    "collapsed": true
   },
   "outputs": [],
   "source": [
    "pitstops = laps[laps.pitstopduration>0]"
   ]
  },
  {
   "cell_type": "code",
   "execution_count": 25,
   "metadata": {
    "collapsed": true
   },
   "outputs": [],
   "source": [
    "pitduration = pitstops.groupby(['raceId','driverId'], sort=False, as_index=False).agg({'pitstopduration':'mean'})"
   ]
  },
  {
   "cell_type": "markdown",
   "metadata": {},
   "source": [
    "Merge onto original dataframe"
   ]
  },
  {
   "cell_type": "code",
   "execution_count": 26,
   "metadata": {
    "collapsed": true
   },
   "outputs": [],
   "source": [
    "df = df.merge(pitduration, how='left', left_on=['raceId', 'driverId'],\n",
    "                        right_on=['raceId', 'driverId'])"
   ]
  },
  {
   "cell_type": "code",
   "execution_count": 27,
   "metadata": {
    "collapsed": true
   },
   "outputs": [],
   "source": [
    "df = df.merge(pitlapdur, how='left', left_on=['raceId', 'driverId'],\n",
    "                        right_on=['raceId', 'driverId'])"
   ]
  },
  {
   "cell_type": "code",
   "execution_count": 28,
   "metadata": {
    "collapsed": true
   },
   "outputs": [],
   "source": [
    "df.pitstopduration.fillna(0.0, inplace=True)"
   ]
  },
  {
   "cell_type": "code",
   "execution_count": 29,
   "metadata": {
    "collapsed": true
   },
   "outputs": [],
   "source": [
    "lapsfirst = laps[laps.currentposition == 1]\n",
    "\n",
    "lapsinfirst = lapsfirst.groupby(['raceId', 'driverId'], sort=False, as_index=False).agg(\n",
    "                                {'currentposition':'sum'}).rename(columns={'currentposition':'lapsinfirst'})"
   ]
  },
  {
   "cell_type": "code",
   "execution_count": 30,
   "metadata": {},
   "outputs": [
    {
     "name": "stderr",
     "output_type": "stream",
     "text": [
      "C:\\Users\\Jeff Glupker\\AppData\\Local\\Enthought\\Canopy\\User\\lib\\site-packages\\ipykernel\\__main__.py:3: SettingWithCopyWarning: \n",
      "A value is trying to be set on a copy of a slice from a DataFrame.\n",
      "Try using .loc[row_indexer,col_indexer] = value instead\n",
      "\n",
      "See the caveats in the documentation: http://pandas.pydata.org/pandas-docs/stable/indexing.html#indexing-view-versus-copy\n",
      "  app.launch_new_instance()\n"
     ]
    }
   ],
   "source": [
    "lapstopthree = laps[laps.currentposition <= 3]\n",
    "\n",
    "lapstopthree['top3'] = 1.0\n",
    "\n",
    "lapsthree = lapstopthree.groupby(['raceId', 'driverId'], sort=False, as_index=False).agg(\n",
    "                                {'top3':'sum'}).rename(columns={'top3':'lapstop3'})"
   ]
  },
  {
   "cell_type": "code",
   "execution_count": 31,
   "metadata": {},
   "outputs": [
    {
     "name": "stderr",
     "output_type": "stream",
     "text": [
      "C:\\Users\\Jeff Glupker\\AppData\\Local\\Enthought\\Canopy\\User\\lib\\site-packages\\ipykernel\\__main__.py:3: SettingWithCopyWarning: \n",
      "A value is trying to be set on a copy of a slice from a DataFrame.\n",
      "Try using .loc[row_indexer,col_indexer] = value instead\n",
      "\n",
      "See the caveats in the documentation: http://pandas.pydata.org/pandas-docs/stable/indexing.html#indexing-view-versus-copy\n",
      "  app.launch_new_instance()\n"
     ]
    }
   ],
   "source": [
    "lapstopfive = laps[laps.currentposition <= 5]\n",
    "\n",
    "lapstopfive['top5'] = 1.0\n",
    "\n",
    "lapsfive = lapstopfive.groupby(['raceId', 'driverId'],sort=False, as_index=False).agg(\n",
    "                                {'top5':'sum'}).rename(columns={'top5':'lapstop5'})"
   ]
  },
  {
   "cell_type": "code",
   "execution_count": 32,
   "metadata": {},
   "outputs": [
    {
     "name": "stderr",
     "output_type": "stream",
     "text": [
      "C:\\Users\\Jeff Glupker\\AppData\\Local\\Enthought\\Canopy\\User\\lib\\site-packages\\ipykernel\\__main__.py:3: SettingWithCopyWarning: \n",
      "A value is trying to be set on a copy of a slice from a DataFrame.\n",
      "Try using .loc[row_indexer,col_indexer] = value instead\n",
      "\n",
      "See the caveats in the documentation: http://pandas.pydata.org/pandas-docs/stable/indexing.html#indexing-view-versus-copy\n",
      "  app.launch_new_instance()\n"
     ]
    }
   ],
   "source": [
    "lapstopten = laps[laps.currentposition <= 10]\n",
    "\n",
    "lapstopten['top10'] = 1.0\n",
    "\n",
    "lapsten = lapstopten.groupby(['raceId', 'driverId'], sort=False, as_index=False).agg(\n",
    "                            {'top10':'sum'}).rename(columns={'top10':'lapstop10'}).rename(columns={'top5':'lapstop5'})"
   ]
  },
  {
   "cell_type": "code",
   "execution_count": 33,
   "metadata": {
    "collapsed": true
   },
   "outputs": [],
   "source": [
    "lapsinfirst['lapsleading'] = lapsinfirst.lapsinfirst*1.0\n",
    "\n",
    "lapsinfirst.drop('lapsinfirst', axis=1, inplace=True)"
   ]
  },
  {
   "cell_type": "markdown",
   "metadata": {},
   "source": [
    "Merge onto base dataframe"
   ]
  },
  {
   "cell_type": "code",
   "execution_count": 34,
   "metadata": {
    "collapsed": true
   },
   "outputs": [],
   "source": [
    "df = df.merge(lapsinfirst, how='left', left_on=['raceId', 'driverId'],\n",
    "                        right_on=['raceId', 'driverId'])\n",
    "\n",
    "df = df.merge(lapsthree, how='left', left_on=['raceId', 'driverId'],\n",
    "                        right_on=['raceId', 'driverId'])\n",
    "\n",
    "df = df.merge(lapsfive, how='left', left_on=['raceId', 'driverId'],\n",
    "                        right_on=['raceId', 'driverId'])\n",
    "\n",
    "df = df.merge(lapsten, how='left', left_on=['raceId', 'driverId'],\n",
    "                        right_on=['raceId', 'driverId'])"
   ]
  },
  {
   "cell_type": "code",
   "execution_count": 35,
   "metadata": {
    "collapsed": true
   },
   "outputs": [],
   "source": [
    "df.lapsleading.fillna(0.0, inplace=True)\n",
    "\n",
    "df.lapstop3.fillna(0.0, inplace=True)\n",
    "\n",
    "df.lapstop5.fillna(0.0, inplace=True)\n",
    "\n",
    "df.lapstop10.fillna(0.0, inplace=True)\n",
    "\n",
    "df.qualifyingposition.fillna(29.0, inplace=True)\n",
    "\n",
    "df.pitstop.fillna(0.0, inplace=True)"
   ]
  },
  {
   "cell_type": "code",
   "execution_count": 36,
   "metadata": {
    "collapsed": true
   },
   "outputs": [],
   "source": [
    "df['lapsleadingpct'] = (df.lapsleading / df.laps)*1.0"
   ]
  },
  {
   "cell_type": "code",
   "execution_count": 37,
   "metadata": {
    "collapsed": true
   },
   "outputs": [],
   "source": [
    "df['lapstop3pct'] = (df.lapstop3 / df.laps)*1.0\n",
    "\n",
    "df['lapstop5pct'] = (df.lapstop5 / df.laps)*1.0\n",
    "\n",
    "df['lapstop10pct'] = (df.lapstop10 / df.laps)*1.0"
   ]
  },
  {
   "cell_type": "code",
   "execution_count": 38,
   "metadata": {
    "collapsed": true
   },
   "outputs": [],
   "source": [
    "df.lapsleadingpct.fillna(0.0, inplace=True)\n",
    "\n",
    "df.lapstop3pct.fillna(0.0, inplace=True)\n",
    "\n",
    "df.lapstop5pct.fillna(0.0, inplace=True)\n",
    "\n",
    "df.lapstop10pct.fillna(0.0, inplace=True)"
   ]
  },
  {
   "cell_type": "code",
   "execution_count": 39,
   "metadata": {
    "collapsed": true
   },
   "outputs": [],
   "source": [
    "df.drop(['lapstop3','lapstop5','lapstop10', 'lapduration'], axis = 1, inplace=True)"
   ]
  },
  {
   "cell_type": "markdown",
   "metadata": {},
   "source": [
    "Add lap position after 10%, 25%, 50% of the race"
   ]
  },
  {
   "cell_type": "code",
   "execution_count": 40,
   "metadata": {
    "collapsed": true
   },
   "outputs": [],
   "source": [
    "laps2 = df.groupby('raceId', as_index=False).agg({'laps':'max'})"
   ]
  },
  {
   "cell_type": "code",
   "execution_count": 41,
   "metadata": {
    "collapsed": true
   },
   "outputs": [],
   "source": [
    "laps2['10pct'] = (laps2.laps*0.10).round(decimals=0)\n",
    "\n",
    "laps2['25pct'] = (laps2.laps*0.25).round(decimals=0)\n",
    "\n",
    "laps2['50pct'] = (laps2.laps*0.50).round(decimals=0)"
   ]
  },
  {
   "cell_type": "code",
   "execution_count": 42,
   "metadata": {
    "collapsed": true
   },
   "outputs": [],
   "source": [
    "laps = laps.merge(laps2, left_on = 'raceId', right_on= 'raceId', how = 'left')"
   ]
  },
  {
   "cell_type": "code",
   "execution_count": 43,
   "metadata": {},
   "outputs": [
    {
     "name": "stderr",
     "output_type": "stream",
     "text": [
      "C:\\Users\\Jeff Glupker\\AppData\\Local\\Enthought\\Canopy\\User\\lib\\site-packages\\ipykernel\\__main__.py:3: SettingWithCopyWarning: \n",
      "A value is trying to be set on a copy of a slice from a DataFrame\n",
      "\n",
      "See the caveats in the documentation: http://pandas.pydata.org/pandas-docs/stable/indexing.html#indexing-view-versus-copy\n",
      "  app.launch_new_instance()\n",
      "C:\\Users\\Jeff Glupker\\AppData\\Local\\Enthought\\Canopy\\User\\lib\\site-packages\\pandas\\core\\frame.py:2746: SettingWithCopyWarning: \n",
      "A value is trying to be set on a copy of a slice from a DataFrame\n",
      "\n",
      "See the caveats in the documentation: http://pandas.pydata.org/pandas-docs/stable/indexing.html#indexing-view-versus-copy\n",
      "  **kwargs)\n"
     ]
    }
   ],
   "source": [
    "laps10pct = laps[laps.lap == laps['10pct']]\n",
    "\n",
    "laps10pct.drop(['laps', '10pct', '25pct', '50pct','lap','pitstop','lapduration','pitstopduration'], axis=1, inplace=True)\n",
    "\n",
    "laps10pct.rename(columns = {'currentposition':'10pctplace'}, inplace=True)"
   ]
  },
  {
   "cell_type": "code",
   "execution_count": 44,
   "metadata": {},
   "outputs": [
    {
     "name": "stderr",
     "output_type": "stream",
     "text": [
      "C:\\Users\\Jeff Glupker\\AppData\\Local\\Enthought\\Canopy\\User\\lib\\site-packages\\ipykernel\\__main__.py:3: SettingWithCopyWarning: \n",
      "A value is trying to be set on a copy of a slice from a DataFrame\n",
      "\n",
      "See the caveats in the documentation: http://pandas.pydata.org/pandas-docs/stable/indexing.html#indexing-view-versus-copy\n",
      "  app.launch_new_instance()\n"
     ]
    }
   ],
   "source": [
    "laps25pct = laps[laps.lap == laps['25pct']]\n",
    "\n",
    "laps25pct.drop(['laps', '10pct', '25pct', '50pct','lap','pitstop','lapduration','pitstopduration'], axis=1, inplace=True)\n",
    "\n",
    "laps25pct.rename(columns = {'currentposition':'25pctplace'}, inplace=True)"
   ]
  },
  {
   "cell_type": "code",
   "execution_count": 45,
   "metadata": {},
   "outputs": [
    {
     "name": "stderr",
     "output_type": "stream",
     "text": [
      "C:\\Users\\Jeff Glupker\\AppData\\Local\\Enthought\\Canopy\\User\\lib\\site-packages\\ipykernel\\__main__.py:3: SettingWithCopyWarning: \n",
      "A value is trying to be set on a copy of a slice from a DataFrame\n",
      "\n",
      "See the caveats in the documentation: http://pandas.pydata.org/pandas-docs/stable/indexing.html#indexing-view-versus-copy\n",
      "  app.launch_new_instance()\n"
     ]
    }
   ],
   "source": [
    "laps50pct = laps[laps.lap == laps['50pct']]\n",
    "\n",
    "laps50pct.drop(['laps', '10pct', '25pct', '50pct','lap','pitstop','lapduration','pitstopduration'], axis=1, inplace=True)\n",
    "\n",
    "laps50pct.rename(columns = {'currentposition':'50pctplace'},inplace=True)"
   ]
  },
  {
   "cell_type": "code",
   "execution_count": 46,
   "metadata": {
    "collapsed": true
   },
   "outputs": [],
   "source": [
    "df = df.merge(laps10pct, how='left', left_on=['raceId', 'driverId'], right_on=['raceId', 'driverId'])\n",
    "\n",
    "df = df.merge(laps25pct, how='left', left_on=['raceId', 'driverId'], right_on=['raceId', 'driverId'])\n",
    "\n",
    "df = df.merge(laps50pct, how='left', left_on=['raceId', 'driverId'], right_on=['raceId', 'driverId'])"
   ]
  },
  {
   "cell_type": "code",
   "execution_count": 47,
   "metadata": {
    "collapsed": true
   },
   "outputs": [],
   "source": [
    "df['10pctpos'] = (df.grid - df['10pctplace'])*1.0\n",
    "\n",
    "df['25pctpos'] = (df.grid - df['25pctplace'])*1.0\n",
    "\n",
    "df['50pctpos'] = (df.grid - df['50pctplace'])*1.0\n",
    "\n",
    "df.drop(['10pctplace','25pctplace','50pctplace'], axis=1, inplace=True)"
   ]
  },
  {
   "cell_type": "code",
   "execution_count": 48,
   "metadata": {
    "collapsed": true
   },
   "outputs": [],
   "source": [
    "maxgrid = df.groupby('raceId', as_index=False).agg({'grid':'max'})\n",
    "\n",
    "maxgrid.columns = ['raceId', 'maxgrid']\n",
    "\n",
    "df = df.merge(maxgrid, how='left', left_on='raceId', right_on='raceId')"
   ]
  },
  {
   "cell_type": "code",
   "execution_count": 49,
   "metadata": {
    "collapsed": true
   },
   "outputs": [],
   "source": [
    "df['10pctpos'].fillna(df.grid-df.maxgrid, inplace=True)\n",
    "\n",
    "df['25pctpos'].fillna(df.grid-df.maxgrid, inplace=True)\n",
    "\n",
    "df['50pctpos'].fillna(df.grid-df.maxgrid, inplace=True)\n",
    "\n",
    "df.drop('maxgrid',axis=1,inplace=True)"
   ]
  },
  {
   "cell_type": "code",
   "execution_count": 50,
   "metadata": {
    "collapsed": true
   },
   "outputs": [],
   "source": [
    "df['StatusNew'] = df.status.replace(to_replace= ['+1 Lap', 'Disqualified', '+2 Laps', '+4 Laps', '+3 Laps', 'Retired', \n",
    "                                                 '+11 Laps', '+5 Laps', '+17 Laps', 'Withdrew', '+12 Laps', '+7 Laps', \n",
    "                                                 '+26 Laps', '+6 Laps', '+8 Laps', '107% Rule', 'Did not qualify', \n",
    "                                                 'Not restarted', 'Did not prequalify', 'Excluded', '+9 Laps', '+10 Laps', \n",
    "                                                 '+14 Laps',  '+15 Laps', '+25 Laps','+18 Laps', '+22 Laps', '+16 Laps', \n",
    "                                                 '+24 Laps', '+29 Laps', '+23 Laps', '+21 Laps', '+30 Laps','+44 Laps', \n",
    "                                                 '+13 Laps', '+19 Laps', '+46 Laps', '+20 Laps', '+42 Laps', 'Not classified'], \n",
    "                                                 value = 'no_finish')\n",
    "\n",
    "df['StatusNew'] = df.StatusNew.replace(to_replace = ['Finished'], value = 'no_error')\n",
    "\n",
    "df['StatusNew'] = df.StatusNew.replace(to_replace = ['Engine', 'Transmission', 'Clutch', 'Hydraulics', 'Gearbox', \n",
    "                                                     'Radiator', 'Suspension', 'Brakes', 'Overheating', 'Mechanical', \n",
    "                                                     'Tyre', 'Driver Seat', 'Driveshaft', 'Fuel pressure', 'Front wing', \n",
    "                                                     'Water pressure', 'Refueling', 'Wheel', 'Throttle', 'Steering', \n",
    "                                                     'Broken wing', 'Exhaust', 'Oil leak', 'Wheel rim', 'Water leak', \n",
    "                                                     'Fuel pump', 'Track rod', 'Oil pressure', 'Pneumatics', 'Engine fire', \n",
    "                                                     'Wheel nut', 'Handling', 'Rear wing', 'Fuel system', 'Oil line', \n",
    "                                                     'Fuel rig', 'Launch control', 'Drivetrain', 'Ignition', 'Chassis', \n",
    "                                                     'Halfshaft', 'Crankshaft', 'Differential', 'Wheel bearing', 'Physical', \n",
    "                                                     'Vibrations', 'Safety belt', 'Oil pump', 'Fuel leak', 'Injection', \n",
    "                                                     'Distributor', 'Turbo', 'CV joint', 'Water pump', 'Fuel pipe', \n",
    "                                                     'Oil pipe', 'Axle', 'Water pipe', 'Supercharger', 'Engine misfire', \n",
    "                                                     'ERS', 'Brake duct', 'Seat'], value = 'mechanical_error')\n",
    "\n",
    "df['StatusNew'] = df.StatusNew.replace(to_replace = ['Collision', 'Accident', 'Spun off', 'Puncture', 'Technical', \n",
    "                                                     'Tyre puncture', 'Out of fuel', 'Injured', 'Fuel', 'Safety', 'Injury', \n",
    "                                                     'Stalled', 'Safety concerns', 'Underweight', 'Driver unwell', \n",
    "                                                     'Fatal accident', 'Eye injury', 'Collision damage', 'Refuelling'], \n",
    "                                                    value = 'human_error')\n",
    "\n",
    "df['StatusNew'] = df.StatusNew.replace(to_replace = ['Electrical', 'Electronics', 'Heat shield fire', 'Fire', 'Power loss', \n",
    "                                                     'Battery', 'Alternator','Spark plugs', 'Magneto', 'Power Unit'], \n",
    "                                                     value = 'electrical_error')\n",
    "\n",
    "df.drop('status', axis=1, inplace=True)"
   ]
  },
  {
   "cell_type": "markdown",
   "metadata": {},
   "source": [
    "Check base dataframe for null values"
   ]
  },
  {
   "cell_type": "code",
   "execution_count": 51,
   "metadata": {
    "scrolled": true
   },
   "outputs": [
    {
     "data": {
      "text/plain": [
       "<matplotlib.axes._subplots.AxesSubplot at 0xe76b710>"
      ]
     },
     "execution_count": 51,
     "metadata": {},
     "output_type": "execute_result"
    },
    {
     "data": {
      "image/png": "[encoded data removed]",
      "text/plain": [
       "<matplotlib.figure.Figure at 0x437a0f0>"
      ]
     },
     "metadata": {},
     "output_type": "display_data"
    }
   ],
   "source": [
    "sns.heatmap(df.isnull(),yticklabels=False, cbar=False, cmap='viridis')"
   ]
  },
  {
   "cell_type": "code",
   "execution_count": 52,
   "metadata": {},
   "outputs": [
    {
     "data": {
      "text/plain": [
       "23777"
      ]
     },
     "execution_count": 52,
     "metadata": {},
     "output_type": "execute_result"
    }
   ],
   "source": [
    "len(df)"
   ]
  },
  {
   "cell_type": "markdown",
   "metadata": {},
   "source": [
    "Drop remaining null values"
   ]
  },
  {
   "cell_type": "code",
   "execution_count": 53,
   "metadata": {
    "collapsed": true
   },
   "outputs": [],
   "source": [
    "df.dropna(inplace=True)"
   ]
  },
  {
   "cell_type": "code",
   "execution_count": 54,
   "metadata": {},
   "outputs": [
    {
     "data": {
      "text/plain": [
       "23734"
      ]
     },
     "execution_count": 54,
     "metadata": {},
     "output_type": "execute_result"
    }
   ],
   "source": [
    "len(df)"
   ]
  },
  {
   "cell_type": "code",
   "execution_count": 55,
   "metadata": {},
   "outputs": [
    {
     "data": {
      "text/html": [
       "<div>\n",
       "<style>\n",
       "    .dataframe thead tr:only-child th {\n",
       "        text-align: right;\n",
       "    }\n",
       "\n",
       "    .dataframe thead th {\n",
       "        text-align: left;\n",
       "    }\n",
       "\n",
       "    .dataframe tbody tr th {\n",
       "        vertical-align: top;\n",
       "    }\n",
       "</style>\n",
       "<table border=\"1\" class=\"dataframe\">\n",
       "  <thead>\n",
       "    <tr style=\"text-align: right;\">\n",
       "      <th></th>\n",
       "      <th>raceId</th>\n",
       "      <th>driverId</th>\n",
       "      <th>constructorId</th>\n",
       "      <th>grid</th>\n",
       "      <th>positionOrder</th>\n",
       "      <th>racepoints</th>\n",
       "      <th>lapsfinished</th>\n",
       "      <th>year</th>\n",
       "      <th>round</th>\n",
       "      <th>constructorRef</th>\n",
       "      <th>constructorName</th>\n",
       "      <th>driverRef</th>\n",
       "      <th>qualifyingposition</th>\n",
       "      <th>drivercountrymatch</th>\n",
       "      <th>constcountrymatch</th>\n",
       "      <th>region</th>\n",
       "      <th>constructorRegion</th>\n",
       "      <th>driverRegion</th>\n",
       "      <th>birthyear</th>\n",
       "      <th>driverage</th>\n",
       "      <th>laps</th>\n",
       "      <th>lapsfinishedpct</th>\n",
       "      <th>wins</th>\n",
       "      <th>top10</th>\n",
       "      <th>pitstopduration</th>\n",
       "      <th>pitstop</th>\n",
       "      <th>lapsleading</th>\n",
       "      <th>lapsleadingpct</th>\n",
       "      <th>lapstop3pct</th>\n",
       "      <th>lapstop5pct</th>\n",
       "      <th>lapstop10pct</th>\n",
       "      <th>10pctpos</th>\n",
       "      <th>25pctpos</th>\n",
       "      <th>50pctpos</th>\n",
       "      <th>StatusNew</th>\n",
       "    </tr>\n",
       "  </thead>\n",
       "  <tbody>\n",
       "    <tr>\n",
       "      <th>0</th>\n",
       "      <td>18</td>\n",
       "      <td>1</td>\n",
       "      <td>1</td>\n",
       "      <td>1</td>\n",
       "      <td>1</td>\n",
       "      <td>10.0</td>\n",
       "      <td>58</td>\n",
       "      <td>2008</td>\n",
       "      <td>1</td>\n",
       "      <td>mclaren</td>\n",
       "      <td>McLaren</td>\n",
       "      <td>hamilton</td>\n",
       "      <td>1.0</td>\n",
       "      <td>0.0</td>\n",
       "      <td>0.0</td>\n",
       "      <td>australia_nz</td>\n",
       "      <td>europe</td>\n",
       "      <td>europe</td>\n",
       "      <td>1985.0</td>\n",
       "      <td>23.0</td>\n",
       "      <td>58</td>\n",
       "      <td>1.0</td>\n",
       "      <td>1.0</td>\n",
       "      <td>1.0</td>\n",
       "      <td>0.0</td>\n",
       "      <td>0.0</td>\n",
       "      <td>50.0</td>\n",
       "      <td>0.862069</td>\n",
       "      <td>0.948276</td>\n",
       "      <td>1.000000</td>\n",
       "      <td>1.0</td>\n",
       "      <td>0.0</td>\n",
       "      <td>0.0</td>\n",
       "      <td>0.0</td>\n",
       "      <td>no_error</td>\n",
       "    </tr>\n",
       "    <tr>\n",
       "      <th>1</th>\n",
       "      <td>18</td>\n",
       "      <td>2</td>\n",
       "      <td>2</td>\n",
       "      <td>5</td>\n",
       "      <td>2</td>\n",
       "      <td>8.0</td>\n",
       "      <td>58</td>\n",
       "      <td>2008</td>\n",
       "      <td>1</td>\n",
       "      <td>bmw_sauber</td>\n",
       "      <td>BMW Sauber</td>\n",
       "      <td>heidfeld</td>\n",
       "      <td>5.0</td>\n",
       "      <td>0.0</td>\n",
       "      <td>0.0</td>\n",
       "      <td>australia_nz</td>\n",
       "      <td>europe</td>\n",
       "      <td>europe</td>\n",
       "      <td>1977.0</td>\n",
       "      <td>31.0</td>\n",
       "      <td>58</td>\n",
       "      <td>1.0</td>\n",
       "      <td>0.0</td>\n",
       "      <td>1.0</td>\n",
       "      <td>0.0</td>\n",
       "      <td>0.0</td>\n",
       "      <td>0.0</td>\n",
       "      <td>0.000000</td>\n",
       "      <td>0.517241</td>\n",
       "      <td>0.982759</td>\n",
       "      <td>1.0</td>\n",
       "      <td>0.0</td>\n",
       "      <td>0.0</td>\n",
       "      <td>1.0</td>\n",
       "      <td>no_error</td>\n",
       "    </tr>\n",
       "    <tr>\n",
       "      <th>2</th>\n",
       "      <td>18</td>\n",
       "      <td>3</td>\n",
       "      <td>3</td>\n",
       "      <td>7</td>\n",
       "      <td>3</td>\n",
       "      <td>6.0</td>\n",
       "      <td>58</td>\n",
       "      <td>2008</td>\n",
       "      <td>1</td>\n",
       "      <td>williams</td>\n",
       "      <td>Williams</td>\n",
       "      <td>rosberg</td>\n",
       "      <td>7.0</td>\n",
       "      <td>0.0</td>\n",
       "      <td>0.0</td>\n",
       "      <td>australia_nz</td>\n",
       "      <td>europe</td>\n",
       "      <td>europe</td>\n",
       "      <td>1985.0</td>\n",
       "      <td>23.0</td>\n",
       "      <td>58</td>\n",
       "      <td>1.0</td>\n",
       "      <td>0.0</td>\n",
       "      <td>1.0</td>\n",
       "      <td>0.0</td>\n",
       "      <td>0.0</td>\n",
       "      <td>0.0</td>\n",
       "      <td>0.000000</td>\n",
       "      <td>0.258621</td>\n",
       "      <td>0.879310</td>\n",
       "      <td>1.0</td>\n",
       "      <td>3.0</td>\n",
       "      <td>3.0</td>\n",
       "      <td>2.0</td>\n",
       "      <td>no_error</td>\n",
       "    </tr>\n",
       "  </tbody>\n",
       "</table>\n",
       "</div>"
      ],
      "text/plain": [
       "   raceId  driverId  constructorId  grid  positionOrder  racepoints  \\\n",
       "0      18         1              1     1              1        10.0   \n",
       "1      18         2              2     5              2         8.0   \n",
       "2      18         3              3     7              3         6.0   \n",
       "\n",
       "   lapsfinished  year  round constructorRef constructorName driverRef  \\\n",
       "0            58  2008      1        mclaren         McLaren  hamilton   \n",
       "1            58  2008      1     bmw_sauber      BMW Sauber  heidfeld   \n",
       "2            58  2008      1       williams        Williams   rosberg   \n",
       "\n",
       "   qualifyingposition  drivercountrymatch  constcountrymatch        region  \\\n",
       "0                 1.0                 0.0                0.0  australia_nz   \n",
       "1                 5.0                 0.0                0.0  australia_nz   \n",
       "2                 7.0                 0.0                0.0  australia_nz   \n",
       "\n",
       "  constructorRegion driverRegion  birthyear  driverage  laps  lapsfinishedpct  \\\n",
       "0            europe       europe     1985.0       23.0    58              1.0   \n",
       "1            europe       europe     1977.0       31.0    58              1.0   \n",
       "2            europe       europe     1985.0       23.0    58              1.0   \n",
       "\n",
       "   wins  top10  pitstopduration  pitstop  lapsleading  lapsleadingpct  \\\n",
       "0   1.0    1.0              0.0      0.0         50.0        0.862069   \n",
       "1   0.0    1.0              0.0      0.0          0.0        0.000000   \n",
       "2   0.0    1.0              0.0      0.0          0.0        0.000000   \n",
       "\n",
       "   lapstop3pct  lapstop5pct  lapstop10pct  10pctpos  25pctpos  50pctpos  \\\n",
       "0     0.948276     1.000000           1.0       0.0       0.0       0.0   \n",
       "1     0.517241     0.982759           1.0       0.0       0.0       1.0   \n",
       "2     0.258621     0.879310           1.0       3.0       3.0       2.0   \n",
       "\n",
       "  StatusNew  \n",
       "0  no_error  \n",
       "1  no_error  \n",
       "2  no_error  "
      ]
     },
     "execution_count": 55,
     "metadata": {},
     "output_type": "execute_result"
    }
   ],
   "source": [
    "df.head(3)"
   ]
  },
  {
   "cell_type": "markdown",
   "metadata": {},
   "source": [
    "#### Column Metadata"
   ]
  },
  {
   "cell_type": "markdown",
   "metadata": {},
   "source": [
    "raceId - ID's for each race <br>\n",
    "driverId - Unique ID number for each driver <br>\n",
    "constructorId - Unique ID for each constructor/team <br>\n",
    "grid - Starting position for each driver for each race <br>\n",
    "positionOrder - Finishing position of a driver for each race<br>\n",
    "racepoints - Points won for a driver for each race (points awarded to top 10 finishers <br>\n",
    "lapsfinished - Number of laps finished in a race for each driver <br>\n",
    "year - Year in which a race happened <br>\n",
    "round - race number in the season long series <br>\n",
    "counstructorRef/constructorName - constructor/team name <br>\n",
    "driverRef - driver name <br>\n",
    "qualifyingposition - Qualifying position for a driver for each race <br>\n",
    "drivercoutrymatch - Binary for whether a race was held in a driver's home country <br>\n",
    "constcountrymatch - Binary for whether a race was held in a constructor's home country <br>\n",
    "region - Region where a race was held <br>\n",
    "constructorRegion - Region where a constructor is from <br>\n",
    "driverRegion - Region where a driver is from <br>\n",
    "birthyear - Year a driver was born <br>\n",
    "driverage - Age of driver at time of race <br>\n",
    "laps - Total laps a race requires to finish <br>\n",
    "lapsfinishedpct - Percentage of laps finished <br>\n",
    "wins - Binary for whether a driver won a single race <br>\n",
    "top10 - Binary for whether a driver finished in the top ten for a race <br>\n",
    "pitstopduration - Duration of a pitstop <br>\n",
    "pitstop - Number of pitstops a driver took during a race <br>\n",
    "lapsleading - Number of laps a driver led during a race <br>\n",
    "lapsleadingpct - Percentage of laps a driver led during a race <br>\n",
    "lapstop3pct - Percentage of laps a driver was in the top 3 of a race <br>\n",
    "lapstop5pct - Percentage of laps a driver was in the top 5 of a race <br>\n",
    "lapstop10pct - Percentage of laps a driver was in the top 10 of a race <br>\n",
    "10pctpos - Position of a driver 10 percent of the way through a race <br>\n",
    "25pctpos - Position of a driver 25 percent of the way through a race <br>\n",
    "50pctpos - Position of a driver 50 percent of the way through a race <br>\n",
    "StatusNew - Describes whether a driver finished the race and if they didn't, what caused them not to finish"
   ]
  },
  {
   "cell_type": "markdown",
   "metadata": {},
   "source": [
    "## Data Visuals"
   ]
  },
  {
   "cell_type": "markdown",
   "metadata": {},
   "source": [
    "Number of total wins by age of drivers."
   ]
  },
  {
   "cell_type": "code",
   "execution_count": 56,
   "metadata": {},
   "outputs": [
    {
     "data": {
      "text/plain": [
       "<seaborn.axisgrid.FacetGrid at 0xdea9ba8>"
      ]
     },
     "execution_count": 56,
     "metadata": {},
     "output_type": "execute_result"
    },
    {
     "data": {
      "image/png": "[encoded data removed]",
      "text/plain": [
       "<matplotlib.figure.Figure at 0xe689898>"
      ]
     },
     "metadata": {},
     "output_type": "display_data"
    }
   ],
   "source": [
    "agewins = df.groupby('driverage', as_index=False).agg({'wins':'sum'})\n",
    "sns.factorplot(x='driverage', y='wins', data=agewins, size=8, aspect=2, kind='bar')"
   ]
  },
  {
   "cell_type": "markdown",
   "metadata": {},
   "source": [
    "## Data Analysis"
   ]
  },
  {
   "cell_type": "markdown",
   "metadata": {},
   "source": [
    "### Question 1: Can we predict who will finish in the Top 10 for each race? Note that the Top 10 finishers in a given race all receive points toward the season-long standings."
   ]
  },
  {
   "cell_type": "markdown",
   "metadata": {},
   "source": [
    "First, check to see how many instances of drivers finishing in the top 10"
   ]
  },
  {
   "cell_type": "code",
   "execution_count": 57,
   "metadata": {},
   "outputs": [
    {
     "data": {
      "text/plain": [
       "0.28107356534928796"
      ]
     },
     "execution_count": 57,
     "metadata": {},
     "output_type": "execute_result"
    }
   ],
   "source": [
    "df.top10.mean()"
   ]
  },
  {
   "cell_type": "code",
   "execution_count": 58,
   "metadata": {
    "collapsed": true
   },
   "outputs": [],
   "source": [
    "top10_set = df.loc[:, ['raceId', 'year','driverId', 'constructorId', 'pitstopduration', 'pitstop', 'top10', 'driverage',\n",
    "                         'constructorRegion', 'driverRegion']]"
   ]
  },
  {
   "cell_type": "code",
   "execution_count": 59,
   "metadata": {
    "collapsed": true
   },
   "outputs": [],
   "source": [
    "top10_set = pd.get_dummies(top10_set, columns = ['driverId', 'constructorId', 'constructorRegion', 'driverRegion'])"
   ]
  },
  {
   "cell_type": "markdown",
   "metadata": {},
   "source": [
    "Create subset for pitstop-era"
   ]
  },
  {
   "cell_type": "code",
   "execution_count": 60,
   "metadata": {
    "collapsed": true
   },
   "outputs": [],
   "source": [
    "top10_subset = top10_set[top10_set.year > 2010]"
   ]
  },
  {
   "cell_type": "code",
   "execution_count": 61,
   "metadata": {},
   "outputs": [
    {
     "data": {
      "text/plain": [
       "DecisionTreeClassifier(class_weight=None, criterion='gini', max_depth=2,\n",
       "            max_features=None, max_leaf_nodes=None,\n",
       "            min_impurity_decrease=0.0, min_impurity_split=None,\n",
       "            min_samples_leaf=1, min_samples_split=2,\n",
       "            min_weight_fraction_leaf=0.0, presort=False, random_state=None,\n",
       "            splitter='best')"
      ]
     },
     "execution_count": 61,
     "metadata": {},
     "output_type": "execute_result"
    }
   ],
   "source": [
    "X10 = top10_subset.drop(['top10', 'pitstopduration'],axis=1)\n",
    "Y10 = top10_subset.top10\n",
    "dt = tree.DecisionTreeClassifier(max_depth=2)\n",
    "dt.fit(X10,Y10)"
   ]
  },
  {
   "cell_type": "code",
   "execution_count": 62,
   "metadata": {},
   "outputs": [
    {
     "data": {
      "image/png": "[encoded data removed]",
      "text/plain": [
       "<IPython.core.display.Image object>"
      ]
     },
     "execution_count": 62,
     "metadata": {},
     "output_type": "execute_result"
    }
   ],
   "source": [
    "dt_feature_names = list(X10.columns)\n",
    "dt_target_names = np.array(Y10.unique(),dtype=np.string_) \n",
    "tree.export_graphviz(dt, out_file='tree.dot', \n",
    "    feature_names=dt_feature_names, class_names=dt_target_names,\n",
    "    filled=True)  \n",
    "graph = pyd.graph_from_dot_file('tree.dot')\n",
    "Image(graph.create_png())"
   ]
  },
  {
   "cell_type": "markdown",
   "metadata": {},
   "source": [
    "**Conclusion: Whether a driver had to make a pit stop or not is the clearest indicator in determining if they will finish the race in the Top 10. This would suggest that a driver should and will only pit if they absolutely have to, likely a result of a problem with the vehicle.**"
   ]
  },
  {
   "cell_type": "markdown",
   "metadata": {},
   "source": [
    "Show the number of pitstops by year since 2001 (There are no pitstops before 2011)."
   ]
  },
  {
   "cell_type": "code",
   "execution_count": 63,
   "metadata": {},
   "outputs": [
    {
     "data": {
      "text/plain": [
       "<seaborn.axisgrid.FacetGrid at 0x11345550>"
      ]
     },
     "execution_count": 63,
     "metadata": {},
     "output_type": "execute_result"
    },
    {
     "data": {
      "image/png": "[encoded data removed]",
      "text/plain": [
       "<matplotlib.figure.Figure at 0xe6b9f60>"
      ]
     },
     "metadata": {},
     "output_type": "display_data"
    }
   ],
   "source": [
    "pitbyyear = df.groupby('year',as_index=False).agg({'pitstop':'sum','pitstopduration':'mean'})\n",
    "sns.factorplot(x='year', y='pitstop', data=pitbyyear[pitbyyear.year > 2000], size=8, aspect=2, kind='bar',)"
   ]
  },
  {
   "cell_type": "markdown",
   "metadata": {},
   "source": [
    "### Question 2: Can we predict how many points a driver will earn over an entire season?"
   ]
  },
  {
   "cell_type": "markdown",
   "metadata": {},
   "source": [
    "**Because we only have pit stop data for the most recent years, we will need to split the data into races that occured from 1950 to 2010, and then into races that occured from 2011 to 2017. Comparing the results of the two models will also give us insight into how important having pit stop data is in predicting the final outcome.**"
   ]
  },
  {
   "cell_type": "code",
   "execution_count": 64,
   "metadata": {
    "collapsed": true
   },
   "outputs": [],
   "source": [
    "statusdummydf = pd.get_dummies(df, columns=['StatusNew'])"
   ]
  },
  {
   "cell_type": "code",
   "execution_count": 65,
   "metadata": {
    "collapsed": true
   },
   "outputs": [],
   "source": [
    "driverdummy = statusdummydf.groupby(['year', 'driverId'],as_index=False).agg(\n",
    "    {'racepoints':'sum','qualifyingposition':'mean','pitstopduration':'mean',\n",
    "                                     'pitstop':'mean','lapsleadingpct':'mean','lapstop3pct':'mean','lapstop5pct':'mean',\n",
    "                                     'lapstop10pct':'mean','wins':'sum','grid':'mean',\n",
    "                                     'lapsfinishedpct':'mean','top10':'sum','StatusNew_mechanical_error':'sum',\n",
    "                                                'StatusNew_human_error':'sum','StatusNew_no_error':'sum',\n",
    "                                                'StatusNew_no_finish':'sum','StatusNew_electrical_error':'sum',\n",
    "                                                              '10pctpos':'mean','25pctpos':'mean','50pctpos':'mean'})"
   ]
  },
  {
   "cell_type": "markdown",
   "metadata": {},
   "source": [
    "Shows the number of reasons for not finishing a race over the years."
   ]
  },
  {
   "cell_type": "code",
   "execution_count": 66,
   "metadata": {},
   "outputs": [
    {
     "name": "stderr",
     "output_type": "stream",
     "text": [
      "C:\\Users\\Jeff Glupker\\AppData\\Local\\Enthought\\Canopy\\User\\lib\\site-packages\\seaborn\\timeseries.py:183: UserWarning: The tsplot function is deprecated and will be removed or replaced (in a substantially altered version) in a future release.\n",
      "  warnings.warn(msg, UserWarning)\n"
     ]
    },
    {
     "data": {
      "text/plain": [
       "<matplotlib.axes._subplots.AxesSubplot at 0xe9dc240>"
      ]
     },
     "execution_count": 66,
     "metadata": {},
     "output_type": "execute_result"
    },
    {
     "data": {
      "image/png": "[encoded data removed]",
      "text/plain": [
       "<matplotlib.figure.Figure at 0x1188ce48>"
      ]
     },
     "metadata": {},
     "output_type": "display_data"
    }
   ],
   "source": [
    "statusbyyear = driverdummy.groupby('year', as_index=False).agg({'StatusNew_no_finish':'sum','StatusNew_electrical_error':'sum',\n",
    "                                'StatusNew_mechanical_error':'sum','StatusNew_human_error':'sum',\n",
    "                                'StatusNew_no_error':'sum'})\n",
    "meltedstatus = pd.melt(statusbyyear, id_vars='year', var_name='status', value_name='count')\n",
    "meltedstatus['Dummy'] = 0\n",
    "ax_dims = (14, 8.27)\n",
    "f, ax = plt.subplots(figsize=ax_dims)\n",
    "sns.tsplot(meltedstatus, time='year', unit='Dummy', condition='status', value='count', ax=ax)"
   ]
  },
  {
   "cell_type": "markdown",
   "metadata": {},
   "source": [
    "Split Dataset (First model is based on older data from 1950-2010)"
   ]
  },
  {
   "cell_type": "code",
   "execution_count": 67,
   "metadata": {
    "collapsed": true
   },
   "outputs": [],
   "source": [
    "driverseasonold = driverdummy[driverdummy.year <= 2010]"
   ]
  },
  {
   "cell_type": "code",
   "execution_count": 68,
   "metadata": {
    "collapsed": true
   },
   "outputs": [],
   "source": [
    "driverseasonnew = driverdummy[driverdummy.year >= 2011]"
   ]
  },
  {
   "cell_type": "markdown",
   "metadata": {},
   "source": [
    "**First Model**"
   ]
  },
  {
   "cell_type": "markdown",
   "metadata": {},
   "source": [
    "Set the independent and dependent variables"
   ]
  },
  {
   "cell_type": "code",
   "execution_count": 69,
   "metadata": {
    "collapsed": true
   },
   "outputs": [],
   "source": [
    "X2 = driverseasonold.drop('racepoints', axis=1)\n",
    "y2 = driverseasonold['racepoints']"
   ]
  },
  {
   "cell_type": "markdown",
   "metadata": {},
   "source": [
    "Split into training and testing data"
   ]
  },
  {
   "cell_type": "code",
   "execution_count": 70,
   "metadata": {
    "collapsed": true
   },
   "outputs": [],
   "source": [
    "X2_train, X2_test, y2_train, y2_test = train_test_split(X2, y2, test_size=0.3, random_state=0)"
   ]
  },
  {
   "cell_type": "code",
   "execution_count": 71,
   "metadata": {
    "collapsed": true
   },
   "outputs": [],
   "source": [
    "lm = LinearRegression()"
   ]
  },
  {
   "cell_type": "markdown",
   "metadata": {},
   "source": [
    "Fit model"
   ]
  },
  {
   "cell_type": "code",
   "execution_count": 72,
   "metadata": {},
   "outputs": [
    {
     "data": {
      "text/plain": [
       "LinearRegression(copy_X=True, fit_intercept=True, n_jobs=1, normalize=False)"
      ]
     },
     "execution_count": 72,
     "metadata": {},
     "output_type": "execute_result"
    }
   ],
   "source": [
    "lm.fit(X2_train, y2_train)"
   ]
  },
  {
   "cell_type": "markdown",
   "metadata": {},
   "source": [
    "Get predicted values"
   ]
  },
  {
   "cell_type": "code",
   "execution_count": 73,
   "metadata": {
    "collapsed": true
   },
   "outputs": [],
   "source": [
    "lmpredictions = lm.predict(X2_test)"
   ]
  },
  {
   "cell_type": "markdown",
   "metadata": {},
   "source": [
    "Graph plots of the predicted vs actual values and the distribution"
   ]
  },
  {
   "cell_type": "code",
   "execution_count": 74,
   "metadata": {},
   "outputs": [
    {
     "data": {
      "text/plain": [
       "<matplotlib.collections.PathCollection at 0x112c5c50>"
      ]
     },
     "execution_count": 74,
     "metadata": {},
     "output_type": "execute_result"
    },
    {
     "data": {
      "image/png": "[encoded data removed]",
      "text/plain": [
       "<matplotlib.figure.Figure at 0x119a97f0>"
      ]
     },
     "metadata": {},
     "output_type": "display_data"
    }
   ],
   "source": [
    "plt.scatter(y2_test, lmpredictions)"
   ]
  },
  {
   "cell_type": "code",
   "execution_count": 75,
   "metadata": {},
   "outputs": [
    {
     "data": {
      "text/plain": [
       "<matplotlib.axes._subplots.AxesSubplot at 0x1145a860>"
      ]
     },
     "execution_count": 75,
     "metadata": {},
     "output_type": "execute_result"
    },
    {
     "data": {
      "image/png": "[encoded data removed]",
      "text/plain": [
       "<matplotlib.figure.Figure at 0x4ab9320>"
      ]
     },
     "metadata": {},
     "output_type": "display_data"
    }
   ],
   "source": [
    "sns.distplot((y2_test - lmpredictions))"
   ]
  },
  {
   "cell_type": "markdown",
   "metadata": {},
   "source": [
    "Calculate accuracy"
   ]
  },
  {
   "cell_type": "code",
   "execution_count": 76,
   "metadata": {},
   "outputs": [
    {
     "data": {
      "text/plain": [
       "2.4771975754781135"
      ]
     },
     "execution_count": 76,
     "metadata": {},
     "output_type": "execute_result"
    }
   ],
   "source": [
    "sk.metrics.mean_absolute_error(y2_test, lmpredictions)"
   ]
  },
  {
   "cell_type": "markdown",
   "metadata": {},
   "source": [
    "Calculate average driver points over the 1950-2010 seasons"
   ]
  },
  {
   "cell_type": "code",
   "execution_count": 77,
   "metadata": {},
   "outputs": [
    {
     "data": {
      "text/plain": [
       "8.3941309648206204"
      ]
     },
     "execution_count": 77,
     "metadata": {},
     "output_type": "execute_result"
    }
   ],
   "source": [
    "driverseasonold.racepoints.mean()"
   ]
  },
  {
   "cell_type": "markdown",
   "metadata": {},
   "source": [
    "**Conclusion (First Model): Based on our model, we're able to predict within 2.4 points the total finishing amount for each driver per season. However, the average race points over this time period is 8.4, so this actually isn't that accurate. Let's predict using the newer data to determine if adding in pit stop data will improve the model.**"
   ]
  },
  {
   "cell_type": "markdown",
   "metadata": {},
   "source": [
    "**Second Model**"
   ]
  },
  {
   "cell_type": "code",
   "execution_count": 78,
   "metadata": {},
   "outputs": [
    {
     "name": "stderr",
     "output_type": "stream",
     "text": [
      "C:\\Users\\Jeff Glupker\\AppData\\Local\\Enthought\\Canopy\\User\\lib\\site-packages\\ipykernel\\__main__.py:1: SettingWithCopyWarning: \n",
      "A value is trying to be set on a copy of a slice from a DataFrame\n",
      "\n",
      "See the caveats in the documentation: http://pandas.pydata.org/pandas-docs/stable/indexing.html#indexing-view-versus-copy\n",
      "  if __name__ == '__main__':\n"
     ]
    }
   ],
   "source": [
    "driverseasonnew.drop(['top10','wins'], axis=1, inplace=True)"
   ]
  },
  {
   "cell_type": "markdown",
   "metadata": {},
   "source": [
    "Set the independent and dependent variables"
   ]
  },
  {
   "cell_type": "code",
   "execution_count": 79,
   "metadata": {
    "collapsed": true
   },
   "outputs": [],
   "source": [
    "X3 = driverseasonnew.drop('racepoints', axis=1)\n",
    "y3 = driverseasonnew['racepoints']"
   ]
  },
  {
   "cell_type": "markdown",
   "metadata": {},
   "source": [
    "Split into training and testing data"
   ]
  },
  {
   "cell_type": "code",
   "execution_count": 80,
   "metadata": {
    "collapsed": true
   },
   "outputs": [],
   "source": [
    "X3_train, X3_test, y3_train, y3_test = train_test_split(X3, y3, test_size=0.3, random_state=0)"
   ]
  },
  {
   "cell_type": "code",
   "execution_count": 81,
   "metadata": {
    "collapsed": true
   },
   "outputs": [],
   "source": [
    "lm2 = LinearRegression()"
   ]
  },
  {
   "cell_type": "markdown",
   "metadata": {},
   "source": [
    "Fit model"
   ]
  },
  {
   "cell_type": "code",
   "execution_count": 82,
   "metadata": {},
   "outputs": [
    {
     "data": {
      "text/plain": [
       "LinearRegression(copy_X=True, fit_intercept=True, n_jobs=1, normalize=False)"
      ]
     },
     "execution_count": 82,
     "metadata": {},
     "output_type": "execute_result"
    }
   ],
   "source": [
    "lm2.fit(X3_train, y3_train)"
   ]
  },
  {
   "cell_type": "markdown",
   "metadata": {},
   "source": [
    "Get predicted values"
   ]
  },
  {
   "cell_type": "code",
   "execution_count": 83,
   "metadata": {
    "collapsed": true
   },
   "outputs": [],
   "source": [
    "lm2predictions = lm2.predict(X3_test)"
   ]
  },
  {
   "cell_type": "markdown",
   "metadata": {},
   "source": [
    "Graph plots of the predicted vs actual values and the distribution"
   ]
  },
  {
   "cell_type": "code",
   "execution_count": 84,
   "metadata": {},
   "outputs": [
    {
     "data": {
      "text/plain": [
       "<matplotlib.collections.PathCollection at 0x1f149c88>"
      ]
     },
     "execution_count": 84,
     "metadata": {},
     "output_type": "execute_result"
    },
    {
     "data": {
      "image/png": "[encoded data removed]",
      "text/plain": [
       "<matplotlib.figure.Figure at 0x1f1e9518>"
      ]
     },
     "metadata": {},
     "output_type": "display_data"
    }
   ],
   "source": [
    "plt.scatter(y3_test, lm2predictions)"
   ]
  },
  {
   "cell_type": "code",
   "execution_count": 85,
   "metadata": {},
   "outputs": [
    {
     "data": {
      "text/plain": [
       "<matplotlib.axes._subplots.AxesSubplot at 0x1f418c88>"
      ]
     },
     "execution_count": 85,
     "metadata": {},
     "output_type": "execute_result"
    },
    {
     "data": {
      "image/png": "[encoded data removed]",
      "text/plain": [
       "<matplotlib.figure.Figure at 0x112ccd68>"
      ]
     },
     "metadata": {},
     "output_type": "display_data"
    }
   ],
   "source": [
    "sns.distplot((y3_test - lm2predictions))"
   ]
  },
  {
   "cell_type": "markdown",
   "metadata": {},
   "source": [
    "Calculate accuracy"
   ]
  },
  {
   "cell_type": "code",
   "execution_count": 86,
   "metadata": {},
   "outputs": [
    {
     "data": {
      "text/plain": [
       "9.4286519457441056"
      ]
     },
     "execution_count": 86,
     "metadata": {},
     "output_type": "execute_result"
    }
   ],
   "source": [
    "sk.metrics.mean_absolute_error(y3_test, lm2predictions)"
   ]
  },
  {
   "cell_type": "markdown",
   "metadata": {},
   "source": [
    ">This shows that we are off by an average of nearly 9.5 points per driver, more than double the amount that we were off by in the original model using the older data."
   ]
  },
  {
   "cell_type": "markdown",
   "metadata": {},
   "source": [
    "Calculate the average points earned per driver over the 2011-2017 seasons"
   ]
  },
  {
   "cell_type": "code",
   "execution_count": 87,
   "metadata": {},
   "outputs": [
    {
     "data": {
      "text/plain": [
       "81.508771929824562"
      ]
     },
     "execution_count": 87,
     "metadata": {},
     "output_type": "execute_result"
    }
   ],
   "source": [
    "driverseasonnew.racepoints.mean()"
   ]
  },
  {
   "cell_type": "markdown",
   "metadata": {},
   "source": [
    "However the average number of points per season per driver has increased by nearly 10x since 2011!"
   ]
  },
  {
   "cell_type": "markdown",
   "metadata": {},
   "source": [
    "Note the dramatic increase in total racepoints from 2001-2011 in the graph below."
   ]
  },
  {
   "cell_type": "code",
   "execution_count": 88,
   "metadata": {},
   "outputs": [
    {
     "data": {
      "text/plain": [
       "<seaborn.axisgrid.FacetGrid at 0xe6b97f0>"
      ]
     },
     "execution_count": 88,
     "metadata": {},
     "output_type": "execute_result"
    },
    {
     "data": {
      "image/png": "[encoded data removed]",
      "text/plain": [
       "<matplotlib.figure.Figure at 0x1f661eb8>"
      ]
     },
     "metadata": {},
     "output_type": "display_data"
    }
   ],
   "source": [
    "df['decade'] = df.year//10*10\n",
    "decadepoints = df.groupby('decade',as_index=False).racepoints.sum()\n",
    "sns.factorplot(x='decade',y='racepoints',data=decadepoints, size=8)"
   ]
  },
  {
   "cell_type": "markdown",
   "metadata": {},
   "source": [
    "**Conclusion (Second Model): Though the difference in the predicted vs actual values for points is higher when looking at the newer data (2011-2017) than the older data (1950-2010), the newer model is actually better because we're only off by only 12% from the average points earned, compared with nearly 28% from the original model. This indicates that adding in pit stop data provides greater accuracy in the predictive power of the model.**"
   ]
  },
  {
   "cell_type": "markdown",
   "metadata": {},
   "source": [
    "**When looking across both models, the key takeaway here is that regardless of how adept the individual driver is at maneuvering the course, there is quite possibly even more importance on the technical team and pit crew to ensure that the vehicle is in optimal racing condition.**"
   ]
  },
  {
   "cell_type": "markdown",
   "metadata": {},
   "source": [
    "### Question 3: Can we predict who will win the 2018 races?"
   ]
  },
  {
   "cell_type": "markdown",
   "metadata": {},
   "source": [
    "Note the number of constructor wins in the graph below. Contrary to initial expectations, the prediction results for 2018 (shown in the model below), are not consistent with the graph, indicating a possible shift in recent constructor successes."
   ]
  },
  {
   "cell_type": "code",
   "execution_count": 89,
   "metadata": {},
   "outputs": [
    {
     "data": {
      "text/plain": [
       "<matplotlib.axes._subplots.AxesSubplot at 0x1f7d04e0>"
      ]
     },
     "execution_count": 89,
     "metadata": {},
     "output_type": "execute_result"
    },
    {
     "data": {
      "image/png": "[encoded data removed]",
      "text/plain": [
       "<matplotlib.figure.Figure at 0x1f64be80>"
      ]
     },
     "metadata": {},
     "output_type": "display_data"
    }
   ],
   "source": [
    "dfcons = df.merge(constructors, how='left', left_on='constructorId', right_on='constructorId')\n",
    "set_wins_max = dfcons.groupby('constructorName',as_index=False).sum().sort_values(by='wins', ascending = False).head(10)\n",
    "ax_dims = (14, 8.27)\n",
    "f, ax = plt.subplots(figsize=ax_dims)\n",
    "sns.barplot(x='constructorName',y='wins',data=set_wins_max)"
   ]
  },
  {
   "cell_type": "code",
   "execution_count": 90,
   "metadata": {
    "collapsed": true
   },
   "outputs": [],
   "source": [
    "resultsnew = df.drop(['raceId', 'constructorId', 'grid', 'positionOrder', 'racepoints', 'lapsfinished',\n",
    "                      'constructorName','birthyear', 'laps', 'lapsfinishedpct', 'top10', 'lapsleadingpct',\n",
    "                     'lapstop3pct', 'lapstop5pct', 'lapstop10pct', '10pctpos', '25pctpos', '50pctpos','StatusNew',\n",
    "                     'region', 'constructorRegion', 'driverRegion'], axis=1)"
   ]
  },
  {
   "cell_type": "markdown",
   "metadata": {},
   "source": [
    "Identify the drivers in 2017 that we assume will also race in 2018"
   ]
  },
  {
   "cell_type": "code",
   "execution_count": 91,
   "metadata": {},
   "outputs": [
    {
     "data": {
      "text/html": [
       "<div>\n",
       "<style>\n",
       "    .dataframe thead tr:only-child th {\n",
       "        text-align: right;\n",
       "    }\n",
       "\n",
       "    .dataframe thead th {\n",
       "        text-align: left;\n",
       "    }\n",
       "\n",
       "    .dataframe tbody tr th {\n",
       "        vertical-align: top;\n",
       "    }\n",
       "</style>\n",
       "<table border=\"1\" class=\"dataframe\">\n",
       "  <thead>\n",
       "    <tr style=\"text-align: right;\">\n",
       "      <th></th>\n",
       "      <th>driverId</th>\n",
       "      <th>year</th>\n",
       "      <th>round</th>\n",
       "      <th>constructorRef</th>\n",
       "      <th>driverRef</th>\n",
       "      <th>qualifyingposition</th>\n",
       "      <th>drivercountrymatch</th>\n",
       "      <th>constcountrymatch</th>\n",
       "      <th>driverage</th>\n",
       "      <th>wins</th>\n",
       "      <th>pitstopduration</th>\n",
       "      <th>pitstop</th>\n",
       "      <th>lapsleading</th>\n",
       "      <th>decade</th>\n",
       "    </tr>\n",
       "  </thead>\n",
       "  <tbody>\n",
       "    <tr>\n",
       "      <th>0</th>\n",
       "      <td>1</td>\n",
       "      <td>2008</td>\n",
       "      <td>1</td>\n",
       "      <td>mclaren</td>\n",
       "      <td>hamilton</td>\n",
       "      <td>1.0</td>\n",
       "      <td>0.0</td>\n",
       "      <td>0.0</td>\n",
       "      <td>23.0</td>\n",
       "      <td>1.0</td>\n",
       "      <td>0.0</td>\n",
       "      <td>0.0</td>\n",
       "      <td>50.0</td>\n",
       "      <td>2000</td>\n",
       "    </tr>\n",
       "    <tr>\n",
       "      <th>1</th>\n",
       "      <td>2</td>\n",
       "      <td>2008</td>\n",
       "      <td>1</td>\n",
       "      <td>bmw_sauber</td>\n",
       "      <td>heidfeld</td>\n",
       "      <td>5.0</td>\n",
       "      <td>0.0</td>\n",
       "      <td>0.0</td>\n",
       "      <td>31.0</td>\n",
       "      <td>0.0</td>\n",
       "      <td>0.0</td>\n",
       "      <td>0.0</td>\n",
       "      <td>0.0</td>\n",
       "      <td>2000</td>\n",
       "    </tr>\n",
       "    <tr>\n",
       "      <th>2</th>\n",
       "      <td>3</td>\n",
       "      <td>2008</td>\n",
       "      <td>1</td>\n",
       "      <td>williams</td>\n",
       "      <td>rosberg</td>\n",
       "      <td>7.0</td>\n",
       "      <td>0.0</td>\n",
       "      <td>0.0</td>\n",
       "      <td>23.0</td>\n",
       "      <td>0.0</td>\n",
       "      <td>0.0</td>\n",
       "      <td>0.0</td>\n",
       "      <td>0.0</td>\n",
       "      <td>2000</td>\n",
       "    </tr>\n",
       "  </tbody>\n",
       "</table>\n",
       "</div>"
      ],
      "text/plain": [
       "   driverId  year  round constructorRef driverRef  qualifyingposition  \\\n",
       "0         1  2008      1        mclaren  hamilton                 1.0   \n",
       "1         2  2008      1     bmw_sauber  heidfeld                 5.0   \n",
       "2         3  2008      1       williams   rosberg                 7.0   \n",
       "\n",
       "   drivercountrymatch  constcountrymatch  driverage  wins  pitstopduration  \\\n",
       "0                 0.0                0.0       23.0   1.0              0.0   \n",
       "1                 0.0                0.0       31.0   0.0              0.0   \n",
       "2                 0.0                0.0       23.0   0.0              0.0   \n",
       "\n",
       "   pitstop  lapsleading  decade  \n",
       "0      0.0         50.0    2000  \n",
       "1      0.0          0.0    2000  \n",
       "2      0.0          0.0    2000  "
      ]
     },
     "execution_count": 91,
     "metadata": {},
     "output_type": "execute_result"
    }
   ],
   "source": [
    "resultsnew.head(3)"
   ]
  },
  {
   "cell_type": "code",
   "execution_count": 92,
   "metadata": {},
   "outputs": [],
   "source": [
    "unique_drivers = resultsnew[resultsnew.year == 2017]['driverId'].unique().tolist()\n",
    "regress = resultsnew[resultsnew['driverId'].isin(unique_drivers)]"
   ]
  },
  {
   "cell_type": "markdown",
   "metadata": {},
   "source": [
    "Chop down the years so we have the pit stop data"
   ]
  },
  {
   "cell_type": "code",
   "execution_count": 93,
   "metadata": {
    "collapsed": true
   },
   "outputs": [],
   "source": [
    "regress = regress[regress.year.isin([2011, 2012, 2013, 2014, 2015, 2016, 2017])]"
   ]
  },
  {
   "cell_type": "markdown",
   "metadata": {},
   "source": [
    "Drop unwanted columns and get dummies for categorical variables"
   ]
  },
  {
   "cell_type": "code",
   "execution_count": 94,
   "metadata": {},
   "outputs": [],
   "source": [
    "logistic = regress.drop(['driverId', 'year'], axis=1)\n",
    "logistic = pd.get_dummies(logistic)"
   ]
  },
  {
   "cell_type": "code",
   "execution_count": 95,
   "metadata": {},
   "outputs": [
    {
     "data": {
      "text/html": [
       "<div>\n",
       "<style>\n",
       "    .dataframe thead tr:only-child th {\n",
       "        text-align: right;\n",
       "    }\n",
       "\n",
       "    .dataframe thead th {\n",
       "        text-align: left;\n",
       "    }\n",
       "\n",
       "    .dataframe tbody tr th {\n",
       "        vertical-align: top;\n",
       "    }\n",
       "</style>\n",
       "<table border=\"1\" class=\"dataframe\">\n",
       "  <thead>\n",
       "    <tr style=\"text-align: right;\">\n",
       "      <th></th>\n",
       "      <th>round</th>\n",
       "      <th>qualifyingposition</th>\n",
       "      <th>drivercountrymatch</th>\n",
       "      <th>constcountrymatch</th>\n",
       "      <th>driverage</th>\n",
       "      <th>wins</th>\n",
       "      <th>pitstopduration</th>\n",
       "      <th>pitstop</th>\n",
       "      <th>lapsleading</th>\n",
       "      <th>decade</th>\n",
       "      <th>constructorRef_caterham</th>\n",
       "      <th>constructorRef_ferrari</th>\n",
       "      <th>constructorRef_force_india</th>\n",
       "      <th>constructorRef_haas</th>\n",
       "      <th>constructorRef_hrt</th>\n",
       "      <th>constructorRef_lotus_f1</th>\n",
       "      <th>constructorRef_manor</th>\n",
       "      <th>constructorRef_mclaren</th>\n",
       "      <th>constructorRef_mercedes</th>\n",
       "      <th>constructorRef_red_bull</th>\n",
       "      <th>constructorRef_renault</th>\n",
       "      <th>constructorRef_sauber</th>\n",
       "      <th>constructorRef_toro_rosso</th>\n",
       "      <th>constructorRef_williams</th>\n",
       "      <th>driverRef_alonso</th>\n",
       "      <th>driverRef_bottas</th>\n",
       "      <th>driverRef_brendon_hartley</th>\n",
       "      <th>driverRef_button</th>\n",
       "      <th>driverRef_ericsson</th>\n",
       "      <th>driverRef_gasly</th>\n",
       "      <th>driverRef_giovinazzi</th>\n",
       "      <th>driverRef_grosjean</th>\n",
       "      <th>driverRef_hamilton</th>\n",
       "      <th>driverRef_hulkenberg</th>\n",
       "      <th>driverRef_jolyon_palmer</th>\n",
       "      <th>driverRef_kevin_magnussen</th>\n",
       "      <th>driverRef_kvyat</th>\n",
       "      <th>driverRef_massa</th>\n",
       "      <th>driverRef_max_verstappen</th>\n",
       "      <th>driverRef_ocon</th>\n",
       "      <th>driverRef_perez</th>\n",
       "      <th>driverRef_raikkonen</th>\n",
       "      <th>driverRef_resta</th>\n",
       "      <th>driverRef_ricciardo</th>\n",
       "      <th>driverRef_sainz</th>\n",
       "      <th>driverRef_stroll</th>\n",
       "      <th>driverRef_vandoorne</th>\n",
       "      <th>driverRef_vettel</th>\n",
       "      <th>driverRef_wehrlein</th>\n",
       "    </tr>\n",
       "  </thead>\n",
       "  <tbody>\n",
       "    <tr>\n",
       "      <th>20776</th>\n",
       "      <td>1</td>\n",
       "      <td>1.0</td>\n",
       "      <td>0.0</td>\n",
       "      <td>0.0</td>\n",
       "      <td>24.0</td>\n",
       "      <td>1.0</td>\n",
       "      <td>23.3195</td>\n",
       "      <td>2.0</td>\n",
       "      <td>55.0</td>\n",
       "      <td>2010</td>\n",
       "      <td>0</td>\n",
       "      <td>0</td>\n",
       "      <td>0</td>\n",
       "      <td>0</td>\n",
       "      <td>0</td>\n",
       "      <td>0</td>\n",
       "      <td>0</td>\n",
       "      <td>0</td>\n",
       "      <td>0</td>\n",
       "      <td>1</td>\n",
       "      <td>0</td>\n",
       "      <td>0</td>\n",
       "      <td>0</td>\n",
       "      <td>0</td>\n",
       "      <td>0</td>\n",
       "      <td>0</td>\n",
       "      <td>0</td>\n",
       "      <td>0</td>\n",
       "      <td>0</td>\n",
       "      <td>0</td>\n",
       "      <td>0</td>\n",
       "      <td>0</td>\n",
       "      <td>0</td>\n",
       "      <td>0</td>\n",
       "      <td>0</td>\n",
       "      <td>0</td>\n",
       "      <td>0</td>\n",
       "      <td>0</td>\n",
       "      <td>0</td>\n",
       "      <td>0</td>\n",
       "      <td>0</td>\n",
       "      <td>0</td>\n",
       "      <td>0</td>\n",
       "      <td>0</td>\n",
       "      <td>0</td>\n",
       "      <td>0</td>\n",
       "      <td>0</td>\n",
       "      <td>1</td>\n",
       "      <td>0</td>\n",
       "    </tr>\n",
       "    <tr>\n",
       "      <th>20777</th>\n",
       "      <td>1</td>\n",
       "      <td>2.0</td>\n",
       "      <td>0.0</td>\n",
       "      <td>0.0</td>\n",
       "      <td>26.0</td>\n",
       "      <td>0.0</td>\n",
       "      <td>23.2130</td>\n",
       "      <td>2.0</td>\n",
       "      <td>3.0</td>\n",
       "      <td>2010</td>\n",
       "      <td>0</td>\n",
       "      <td>0</td>\n",
       "      <td>0</td>\n",
       "      <td>0</td>\n",
       "      <td>0</td>\n",
       "      <td>0</td>\n",
       "      <td>0</td>\n",
       "      <td>1</td>\n",
       "      <td>0</td>\n",
       "      <td>0</td>\n",
       "      <td>0</td>\n",
       "      <td>0</td>\n",
       "      <td>0</td>\n",
       "      <td>0</td>\n",
       "      <td>0</td>\n",
       "      <td>0</td>\n",
       "      <td>0</td>\n",
       "      <td>0</td>\n",
       "      <td>0</td>\n",
       "      <td>0</td>\n",
       "      <td>0</td>\n",
       "      <td>0</td>\n",
       "      <td>1</td>\n",
       "      <td>0</td>\n",
       "      <td>0</td>\n",
       "      <td>0</td>\n",
       "      <td>0</td>\n",
       "      <td>0</td>\n",
       "      <td>0</td>\n",
       "      <td>0</td>\n",
       "      <td>0</td>\n",
       "      <td>0</td>\n",
       "      <td>0</td>\n",
       "      <td>0</td>\n",
       "      <td>0</td>\n",
       "      <td>0</td>\n",
       "      <td>0</td>\n",
       "      <td>0</td>\n",
       "      <td>0</td>\n",
       "    </tr>\n",
       "    <tr>\n",
       "      <th>20779</th>\n",
       "      <td>1</td>\n",
       "      <td>5.0</td>\n",
       "      <td>0.0</td>\n",
       "      <td>0.0</td>\n",
       "      <td>30.0</td>\n",
       "      <td>0.0</td>\n",
       "      <td>24.0550</td>\n",
       "      <td>3.0</td>\n",
       "      <td>0.0</td>\n",
       "      <td>2010</td>\n",
       "      <td>0</td>\n",
       "      <td>1</td>\n",
       "      <td>0</td>\n",
       "      <td>0</td>\n",
       "      <td>0</td>\n",
       "      <td>0</td>\n",
       "      <td>0</td>\n",
       "      <td>0</td>\n",
       "      <td>0</td>\n",
       "      <td>0</td>\n",
       "      <td>0</td>\n",
       "      <td>0</td>\n",
       "      <td>0</td>\n",
       "      <td>0</td>\n",
       "      <td>1</td>\n",
       "      <td>0</td>\n",
       "      <td>0</td>\n",
       "      <td>0</td>\n",
       "      <td>0</td>\n",
       "      <td>0</td>\n",
       "      <td>0</td>\n",
       "      <td>0</td>\n",
       "      <td>0</td>\n",
       "      <td>0</td>\n",
       "      <td>0</td>\n",
       "      <td>0</td>\n",
       "      <td>0</td>\n",
       "      <td>0</td>\n",
       "      <td>0</td>\n",
       "      <td>0</td>\n",
       "      <td>0</td>\n",
       "      <td>0</td>\n",
       "      <td>0</td>\n",
       "      <td>0</td>\n",
       "      <td>0</td>\n",
       "      <td>0</td>\n",
       "      <td>0</td>\n",
       "      <td>0</td>\n",
       "      <td>0</td>\n",
       "    </tr>\n",
       "  </tbody>\n",
       "</table>\n",
       "</div>"
      ],
      "text/plain": [
       "       round  qualifyingposition  drivercountrymatch  constcountrymatch  \\\n",
       "20776      1                 1.0                 0.0                0.0   \n",
       "20777      1                 2.0                 0.0                0.0   \n",
       "20779      1                 5.0                 0.0                0.0   \n",
       "\n",
       "       driverage  wins  pitstopduration  pitstop  lapsleading  decade  \\\n",
       "20776       24.0   1.0          23.3195      2.0         55.0    2010   \n",
       "20777       26.0   0.0          23.2130      2.0          3.0    2010   \n",
       "20779       30.0   0.0          24.0550      3.0          0.0    2010   \n",
       "\n",
       "       constructorRef_caterham  constructorRef_ferrari  \\\n",
       "20776                        0                       0   \n",
       "20777                        0                       0   \n",
       "20779                        0                       1   \n",
       "\n",
       "       constructorRef_force_india  constructorRef_haas  constructorRef_hrt  \\\n",
       "20776                           0                    0                   0   \n",
       "20777                           0                    0                   0   \n",
       "20779                           0                    0                   0   \n",
       "\n",
       "       constructorRef_lotus_f1  constructorRef_manor  constructorRef_mclaren  \\\n",
       "20776                        0                     0                       0   \n",
       "20777                        0                     0                       1   \n",
       "20779                        0                     0                       0   \n",
       "\n",
       "       constructorRef_mercedes  constructorRef_red_bull  \\\n",
       "20776                        0                        1   \n",
       "20777                        0                        0   \n",
       "20779                        0                        0   \n",
       "\n",
       "       constructorRef_renault  constructorRef_sauber  \\\n",
       "20776                       0                      0   \n",
       "20777                       0                      0   \n",
       "20779                       0                      0   \n",
       "\n",
       "       constructorRef_toro_rosso  constructorRef_williams  driverRef_alonso  \\\n",
       "20776                          0                        0                 0   \n",
       "20777                          0                        0                 0   \n",
       "20779                          0                        0                 1   \n",
       "\n",
       "       driverRef_bottas  driverRef_brendon_hartley  driverRef_button  \\\n",
       "20776                 0                          0                 0   \n",
       "20777                 0                          0                 0   \n",
       "20779                 0                          0                 0   \n",
       "\n",
       "       driverRef_ericsson  driverRef_gasly  driverRef_giovinazzi  \\\n",
       "20776                   0                0                     0   \n",
       "20777                   0                0                     0   \n",
       "20779                   0                0                     0   \n",
       "\n",
       "       driverRef_grosjean  driverRef_hamilton  driverRef_hulkenberg  \\\n",
       "20776                   0                   0                     0   \n",
       "20777                   0                   1                     0   \n",
       "20779                   0                   0                     0   \n",
       "\n",
       "       driverRef_jolyon_palmer  driverRef_kevin_magnussen  driverRef_kvyat  \\\n",
       "20776                        0                          0                0   \n",
       "20777                        0                          0                0   \n",
       "20779                        0                          0                0   \n",
       "\n",
       "       driverRef_massa  driverRef_max_verstappen  driverRef_ocon  \\\n",
       "20776                0                         0               0   \n",
       "20777                0                         0               0   \n",
       "20779                0                         0               0   \n",
       "\n",
       "       driverRef_perez  driverRef_raikkonen  driverRef_resta  \\\n",
       "20776                0                    0                0   \n",
       "20777                0                    0                0   \n",
       "20779                0                    0                0   \n",
       "\n",
       "       driverRef_ricciardo  driverRef_sainz  driverRef_stroll  \\\n",
       "20776                    0                0                 0   \n",
       "20777                    0                0                 0   \n",
       "20779                    0                0                 0   \n",
       "\n",
       "       driverRef_vandoorne  driverRef_vettel  driverRef_wehrlein  \n",
       "20776                    0                 1                   0  \n",
       "20777                    0                 0                   0  \n",
       "20779                    0                 0                   0  "
      ]
     },
     "execution_count": 95,
     "metadata": {},
     "output_type": "execute_result"
    }
   ],
   "source": [
    "logistic.head(3)"
   ]
  },
  {
   "cell_type": "code",
   "execution_count": 96,
   "metadata": {
    "collapsed": true
   },
   "outputs": [],
   "source": [
    "X18 = logistic.drop('wins', axis=1)\n",
    "y18 = logistic['wins']"
   ]
  },
  {
   "cell_type": "code",
   "execution_count": 97,
   "metadata": {
    "collapsed": true,
    "scrolled": true
   },
   "outputs": [],
   "source": [
    "logmodel = LogisticRegression()"
   ]
  },
  {
   "cell_type": "markdown",
   "metadata": {},
   "source": [
    "Fit model"
   ]
  },
  {
   "cell_type": "code",
   "execution_count": 98,
   "metadata": {
    "collapsed": true
   },
   "outputs": [],
   "source": [
    "result = logmodel.fit(X18, y18)"
   ]
  },
  {
   "cell_type": "markdown",
   "metadata": {},
   "source": [
    "Get predicted values"
   ]
  },
  {
   "cell_type": "code",
   "execution_count": 99,
   "metadata": {},
   "outputs": [
    {
     "data": {
      "text/plain": [
       "array([ 1.,  0.,  0., ...,  0.,  0.,  0.])"
      ]
     },
     "execution_count": 99,
     "metadata": {},
     "output_type": "execute_result"
    }
   ],
   "source": [
    "predictions = logmodel.predict(X18)\n",
    "predictions"
   ]
  },
  {
   "cell_type": "markdown",
   "metadata": {},
   "source": [
    "Classification report and confusion matrix"
   ]
  },
  {
   "cell_type": "code",
   "execution_count": 100,
   "metadata": {},
   "outputs": [
    {
     "name": "stdout",
     "output_type": "stream",
     "text": [
      "             precision    recall  f1-score   support\n",
      "\n",
      "        0.0       0.99      0.99      0.99      1813\n",
      "        1.0       0.90      0.86      0.88       110\n",
      "\n",
      "avg / total       0.99      0.99      0.99      1923\n",
      "\n"
     ]
    }
   ],
   "source": [
    "print(sk.metrics.classification_report(y18, predictions))"
   ]
  },
  {
   "cell_type": "markdown",
   "metadata": {},
   "source": [
    "Confusion Matrix"
   ]
  },
  {
   "cell_type": "code",
   "execution_count": 101,
   "metadata": {},
   "outputs": [
    {
     "data": {
      "text/plain": [
       "array([[1802,   11],\n",
       "       [  15,   95]], dtype=int64)"
      ]
     },
     "execution_count": 101,
     "metadata": {},
     "output_type": "execute_result"
    }
   ],
   "source": [
    "sk.metrics.confusion_matrix(y18, predictions)"
   ]
  },
  {
   "cell_type": "markdown",
   "metadata": {},
   "source": [
    "Select the coefficients but change the coefficient of round to 0"
   ]
  },
  {
   "cell_type": "code",
   "execution_count": 102,
   "metadata": {
    "collapsed": true
   },
   "outputs": [],
   "source": [
    "coef = result.coef_\n",
    "coef2 = [0, -8.63489634e-02, -1.01004931e-05,\n",
    "         1.06420222e-01,  1.79429937e-01,  6.79818669e-01,\n",
    "        -1.61663692e-01, -1.43857834e-01, -1.48962834e-02,\n",
    "        -1.93651897e-02, -4.63581956e-01, -6.21584577e-02,\n",
    "        -5.08667284e-02,  3.57284254e-01, -6.65640087e-02,\n",
    "         4.36014002e-01,  5.92660623e-01, -3.10563582e-02,\n",
    "        -1.28366050e-01, -2.58034572e-01, -6.27324035e-01,\n",
    "        -3.11702520e-01,  3.31588098e-01, -2.92216317e-01,\n",
    "        -4.93367700e-03,  1.09982924e+00, -8.97690327e-02,\n",
    "        -8.61626818e-03, -5.56160191e-03, -5.41563481e-01,\n",
    "         4.50165432e-01, -3.49100482e-01, -5.84734866e-02,\n",
    "        -2.20838432e-01, -2.64155526e-01, -1.70722881e-01,\n",
    "        -1.08008045e-01, -6.83046104e-02, -2.57202704e-01,\n",
    "         4.75685527e-01, -6.55418915e-02,  4.07431588e-01,\n",
    "        -1.45716834e-01, -6.58181461e-02, -8.15104795e-02,\n",
    "        -5.38771085e-01, -7.58321793e-02, -4.93743732e-01,\n",
    "         4.02497911e-01, -2.92555933e-01, -2.64155526e-01,\n",
    "        -4.22227040e-02, -3.72652512e-03,  2.89915437e-01,\n",
    "        -9.74701370e-02, -7.20982806e-01, -7.34705445e-02,\n",
    "        -6.21584577e-02, -4.78478240e-01, -5.64538539e-02,\n",
    "        -5.08667284e-02]"
   ]
  },
  {
   "cell_type": "markdown",
   "metadata": {},
   "source": [
    "Import data set that has the limited 2018 information, with the rest of the columns filled in with historical averages"
   ]
  },
  {
   "cell_type": "code",
   "execution_count": 103,
   "metadata": {},
   "outputs": [],
   "source": [
    "logit2 = pd.read_csv('logit_test2.csv')\n",
    "\n",
    "logit2.drop(['Unnamed: 0'],axis=1, inplace = True)"
   ]
  },
  {
   "cell_type": "markdown",
   "metadata": {},
   "source": [
    "Multiply by each value by the corresponding coefficient from the test set"
   ]
  },
  {
   "cell_type": "code",
   "execution_count": 104,
   "metadata": {
    "collapsed": true
   },
   "outputs": [],
   "source": [
    "logit2['score'] = logit2.multiply(coef2).sum(axis = 1)"
   ]
  },
  {
   "cell_type": "markdown",
   "metadata": {},
   "source": [
    "Find the indices of the maximum likelihood winner for each round"
   ]
  },
  {
   "cell_type": "code",
   "execution_count": 105,
   "metadata": {},
   "outputs": [],
   "source": [
    "idx = logit2.groupby('round').apply(lambda x: x['score'].argmax())\n",
    "\n",
    "winners = logit2.loc[idx]"
   ]
  },
  {
   "cell_type": "markdown",
   "metadata": {},
   "source": [
    "Find the winners"
   ]
  },
  {
   "cell_type": "code",
   "execution_count": 106,
   "metadata": {},
   "outputs": [
    {
     "data": {
      "text/html": [
       "<div>\n",
       "<style>\n",
       "    .dataframe thead tr:only-child th {\n",
       "        text-align: right;\n",
       "    }\n",
       "\n",
       "    .dataframe thead th {\n",
       "        text-align: left;\n",
       "    }\n",
       "\n",
       "    .dataframe tbody tr th {\n",
       "        vertical-align: top;\n",
       "    }\n",
       "</style>\n",
       "<table border=\"1\" class=\"dataframe\">\n",
       "  <thead>\n",
       "    <tr style=\"text-align: right;\">\n",
       "      <th></th>\n",
       "      <th>constructorRef_ferrari</th>\n",
       "      <th>constructorRef_manor</th>\n",
       "      <th>constructorRef_williams</th>\n",
       "      <th>driverRef_alonso</th>\n",
       "      <th>driverRef_ocon</th>\n",
       "      <th>driverRef_stroll</th>\n",
       "      <th>driverRef_wehrlein</th>\n",
       "    </tr>\n",
       "    <tr>\n",
       "      <th>round</th>\n",
       "      <th></th>\n",
       "      <th></th>\n",
       "      <th></th>\n",
       "      <th></th>\n",
       "      <th></th>\n",
       "      <th></th>\n",
       "      <th></th>\n",
       "    </tr>\n",
       "  </thead>\n",
       "  <tbody>\n",
       "    <tr>\n",
       "      <th>1</th>\n",
       "      <td>0</td>\n",
       "      <td>1</td>\n",
       "      <td>0</td>\n",
       "      <td>0</td>\n",
       "      <td>0</td>\n",
       "      <td>0</td>\n",
       "      <td>1</td>\n",
       "    </tr>\n",
       "    <tr>\n",
       "      <th>2</th>\n",
       "      <td>0</td>\n",
       "      <td>0</td>\n",
       "      <td>1</td>\n",
       "      <td>0</td>\n",
       "      <td>0</td>\n",
       "      <td>1</td>\n",
       "      <td>0</td>\n",
       "    </tr>\n",
       "    <tr>\n",
       "      <th>3</th>\n",
       "      <td>1</td>\n",
       "      <td>0</td>\n",
       "      <td>0</td>\n",
       "      <td>1</td>\n",
       "      <td>0</td>\n",
       "      <td>0</td>\n",
       "      <td>0</td>\n",
       "    </tr>\n",
       "    <tr>\n",
       "      <th>4</th>\n",
       "      <td>0</td>\n",
       "      <td>0</td>\n",
       "      <td>1</td>\n",
       "      <td>0</td>\n",
       "      <td>0</td>\n",
       "      <td>1</td>\n",
       "      <td>0</td>\n",
       "    </tr>\n",
       "    <tr>\n",
       "      <th>5</th>\n",
       "      <td>0</td>\n",
       "      <td>1</td>\n",
       "      <td>0</td>\n",
       "      <td>0</td>\n",
       "      <td>1</td>\n",
       "      <td>0</td>\n",
       "      <td>0</td>\n",
       "    </tr>\n",
       "    <tr>\n",
       "      <th>6</th>\n",
       "      <td>0</td>\n",
       "      <td>1</td>\n",
       "      <td>0</td>\n",
       "      <td>0</td>\n",
       "      <td>1</td>\n",
       "      <td>0</td>\n",
       "      <td>0</td>\n",
       "    </tr>\n",
       "    <tr>\n",
       "      <th>7</th>\n",
       "      <td>0</td>\n",
       "      <td>1</td>\n",
       "      <td>0</td>\n",
       "      <td>0</td>\n",
       "      <td>1</td>\n",
       "      <td>0</td>\n",
       "      <td>0</td>\n",
       "    </tr>\n",
       "    <tr>\n",
       "      <th>8</th>\n",
       "      <td>0</td>\n",
       "      <td>1</td>\n",
       "      <td>0</td>\n",
       "      <td>0</td>\n",
       "      <td>1</td>\n",
       "      <td>0</td>\n",
       "      <td>0</td>\n",
       "    </tr>\n",
       "    <tr>\n",
       "      <th>9</th>\n",
       "      <td>0</td>\n",
       "      <td>1</td>\n",
       "      <td>0</td>\n",
       "      <td>0</td>\n",
       "      <td>1</td>\n",
       "      <td>0</td>\n",
       "      <td>0</td>\n",
       "    </tr>\n",
       "    <tr>\n",
       "      <th>10</th>\n",
       "      <td>0</td>\n",
       "      <td>1</td>\n",
       "      <td>0</td>\n",
       "      <td>0</td>\n",
       "      <td>1</td>\n",
       "      <td>0</td>\n",
       "      <td>0</td>\n",
       "    </tr>\n",
       "    <tr>\n",
       "      <th>11</th>\n",
       "      <td>0</td>\n",
       "      <td>1</td>\n",
       "      <td>0</td>\n",
       "      <td>0</td>\n",
       "      <td>1</td>\n",
       "      <td>0</td>\n",
       "      <td>0</td>\n",
       "    </tr>\n",
       "    <tr>\n",
       "      <th>12</th>\n",
       "      <td>0</td>\n",
       "      <td>1</td>\n",
       "      <td>0</td>\n",
       "      <td>0</td>\n",
       "      <td>1</td>\n",
       "      <td>0</td>\n",
       "      <td>0</td>\n",
       "    </tr>\n",
       "    <tr>\n",
       "      <th>13</th>\n",
       "      <td>0</td>\n",
       "      <td>1</td>\n",
       "      <td>0</td>\n",
       "      <td>0</td>\n",
       "      <td>1</td>\n",
       "      <td>0</td>\n",
       "      <td>0</td>\n",
       "    </tr>\n",
       "    <tr>\n",
       "      <th>14</th>\n",
       "      <td>0</td>\n",
       "      <td>1</td>\n",
       "      <td>0</td>\n",
       "      <td>0</td>\n",
       "      <td>1</td>\n",
       "      <td>0</td>\n",
       "      <td>0</td>\n",
       "    </tr>\n",
       "    <tr>\n",
       "      <th>15</th>\n",
       "      <td>1</td>\n",
       "      <td>0</td>\n",
       "      <td>0</td>\n",
       "      <td>1</td>\n",
       "      <td>0</td>\n",
       "      <td>0</td>\n",
       "      <td>0</td>\n",
       "    </tr>\n",
       "    <tr>\n",
       "      <th>16</th>\n",
       "      <td>1</td>\n",
       "      <td>0</td>\n",
       "      <td>0</td>\n",
       "      <td>1</td>\n",
       "      <td>0</td>\n",
       "      <td>0</td>\n",
       "      <td>0</td>\n",
       "    </tr>\n",
       "    <tr>\n",
       "      <th>17</th>\n",
       "      <td>1</td>\n",
       "      <td>0</td>\n",
       "      <td>0</td>\n",
       "      <td>1</td>\n",
       "      <td>0</td>\n",
       "      <td>0</td>\n",
       "      <td>0</td>\n",
       "    </tr>\n",
       "    <tr>\n",
       "      <th>18</th>\n",
       "      <td>0</td>\n",
       "      <td>1</td>\n",
       "      <td>0</td>\n",
       "      <td>0</td>\n",
       "      <td>1</td>\n",
       "      <td>0</td>\n",
       "      <td>0</td>\n",
       "    </tr>\n",
       "    <tr>\n",
       "      <th>19</th>\n",
       "      <td>0</td>\n",
       "      <td>1</td>\n",
       "      <td>0</td>\n",
       "      <td>0</td>\n",
       "      <td>1</td>\n",
       "      <td>0</td>\n",
       "      <td>0</td>\n",
       "    </tr>\n",
       "    <tr>\n",
       "      <th>20</th>\n",
       "      <td>0</td>\n",
       "      <td>1</td>\n",
       "      <td>0</td>\n",
       "      <td>0</td>\n",
       "      <td>1</td>\n",
       "      <td>0</td>\n",
       "      <td>0</td>\n",
       "    </tr>\n",
       "    <tr>\n",
       "      <th>21</th>\n",
       "      <td>0</td>\n",
       "      <td>0</td>\n",
       "      <td>1</td>\n",
       "      <td>0</td>\n",
       "      <td>0</td>\n",
       "      <td>1</td>\n",
       "      <td>0</td>\n",
       "    </tr>\n",
       "  </tbody>\n",
       "</table>\n",
       "</div>"
      ],
      "text/plain": [
       "       constructorRef_ferrari  constructorRef_manor  constructorRef_williams  \\\n",
       "round                                                                          \n",
       "1                           0                     1                        0   \n",
       "2                           0                     0                        1   \n",
       "3                           1                     0                        0   \n",
       "4                           0                     0                        1   \n",
       "5                           0                     1                        0   \n",
       "6                           0                     1                        0   \n",
       "7                           0                     1                        0   \n",
       "8                           0                     1                        0   \n",
       "9                           0                     1                        0   \n",
       "10                          0                     1                        0   \n",
       "11                          0                     1                        0   \n",
       "12                          0                     1                        0   \n",
       "13                          0                     1                        0   \n",
       "14                          0                     1                        0   \n",
       "15                          1                     0                        0   \n",
       "16                          1                     0                        0   \n",
       "17                          1                     0                        0   \n",
       "18                          0                     1                        0   \n",
       "19                          0                     1                        0   \n",
       "20                          0                     1                        0   \n",
       "21                          0                     0                        1   \n",
       "\n",
       "       driverRef_alonso  driverRef_ocon  driverRef_stroll  driverRef_wehrlein  \n",
       "round                                                                          \n",
       "1                     0               0                 0                   1  \n",
       "2                     0               0                 1                   0  \n",
       "3                     1               0                 0                   0  \n",
       "4                     0               0                 1                   0  \n",
       "5                     0               1                 0                   0  \n",
       "6                     0               1                 0                   0  \n",
       "7                     0               1                 0                   0  \n",
       "8                     0               1                 0                   0  \n",
       "9                     0               1                 0                   0  \n",
       "10                    0               1                 0                   0  \n",
       "11                    0               1                 0                   0  \n",
       "12                    0               1                 0                   0  \n",
       "13                    0               1                 0                   0  \n",
       "14                    0               1                 0                   0  \n",
       "15                    1               0                 0                   0  \n",
       "16                    1               0                 0                   0  \n",
       "17                    1               0                 0                   0  \n",
       "18                    0               1                 0                   0  \n",
       "19                    0               1                 0                   0  \n",
       "20                    0               1                 0                   0  \n",
       "21                    0               0                 1                   0  "
      ]
     },
     "execution_count": 106,
     "metadata": {},
     "output_type": "execute_result"
    }
   ],
   "source": [
    "win_list = winners.sum()\n",
    "\n",
    "empty_col = win_list[win_list == 0].index.tolist()\n",
    "\n",
    "winners_reduced = winners.drop(empty_col, axis=1)\n",
    "\n",
    "merge_round = winners_reduced['round'].to_frame()\n",
    "\n",
    "display = winners_reduced.loc[:,'constructorRef_ferrari':'driverRef_wehrlein']\n",
    "\n",
    "display = display.merge(merge_round, how = 'left', left_index = True, right_index = True).reset_index()\n",
    "\n",
    "display.drop('index', axis=1, inplace = True)\n",
    "\n",
    "display = display.set_index('round')\n",
    "display"
   ]
  },
  {
   "cell_type": "markdown",
   "metadata": {},
   "source": [
    "**Conclusion: We find that the most likely winner for the first round is Wehrlein driving for Manor. Despite Ferrari historically winning the most races they will only win 4 races in 2018.  Additionally, we find that if each driver and team perform at their 2011-2017 average, and given the 2018 race information, Manor will be the team with the most wins, with 14(!), with the other 3 coming from Williams. **"
   ]
  }
 ],
 "metadata": {
  "kernelspec": {
   "display_name": "Python 3",
   "language": "python",
   "name": "python3"
  },
  "language_info": {
   "codemirror_mode": {
    "name": "ipython",
    "version": 3
   },
   "file_extension": ".py",
   "mimetype": "text/x-python",
   "name": "python",
   "nbconvert_exporter": "python",
   "pygments_lexer": "ipython3",
   "version": "3.6.5"
  }
 },
 "nbformat": 4,
 "nbformat_minor": 2
}
